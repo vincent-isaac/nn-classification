{
  "nbformat": 4,
  "nbformat_minor": 0,
  "metadata": {
    "colab": {
      "provenance": []
    },
    "kernelspec": {
      "name": "python3",
      "display_name": "Python 3"
    },
    "language_info": {
      "name": "python"
    }
  },
  "cells": [
    {
      "cell_type": "code",
      "execution_count": null,
      "metadata": {
        "id": "K8B_-GQNjmiw"
      },
      "outputs": [],
      "source": [
        "import pandas as pd\n",
        "from sklearn.model_selection import train_test_split\n",
        "from tensorflow.keras.models import Sequential\n",
        "from tensorflow.keras.models import load_model\n",
        "import pickle\n",
        "from tensorflow.keras.layers import Dense\n",
        "from tensorflow.keras.layers import Dropout\n",
        "from tensorflow.keras.layers import BatchNormalization\n",
        "import tensorflow as tf\n",
        "import seaborn as sns\n",
        "from tensorflow.keras.callbacks import EarlyStopping\n",
        "from sklearn.preprocessing import MinMaxScaler\n",
        "from sklearn.preprocessing import LabelEncoder\n",
        "from sklearn.preprocessing import OneHotEncoder\n",
        "from sklearn.preprocessing import OrdinalEncoder\n",
        "from sklearn.metrics import classification_report,confusion_matrix\n",
        "import numpy as np\n",
        "import matplotlib.pylab as plt\n",
        "df=pd.read_csv(\"customers.csv\")"
      ]
    },
    {
      "cell_type": "code",
      "source": [
        "df.head(10)"
      ],
      "metadata": {
        "colab": {
          "base_uri": "https://localhost:8080/",
          "height": 363
        },
        "id": "eFhENawlj2Ib",
        "outputId": "dabe48be-3a5f-4963-ad5c-4f66f2d81e7c"
      },
      "execution_count": null,
      "outputs": [
        {
          "output_type": "execute_result",
          "data": {
            "text/plain": [
              "       ID  Gender Ever_Married  Age Graduated     Profession  Work_Experience  \\\n",
              "0  462809    Male           No   22        No     Healthcare              1.0   \n",
              "1  462643  Female          Yes   38       Yes       Engineer              NaN   \n",
              "2  466315  Female          Yes   67       Yes       Engineer              1.0   \n",
              "3  461735    Male          Yes   67       Yes         Lawyer              0.0   \n",
              "4  462669  Female          Yes   40       Yes  Entertainment              NaN   \n",
              "5  461319    Male          Yes   56        No         Artist              0.0   \n",
              "6  460156    Male           No   32       Yes     Healthcare              1.0   \n",
              "7  464347  Female           No   33       Yes     Healthcare              1.0   \n",
              "8  465015  Female          Yes   61       Yes       Engineer              0.0   \n",
              "9  465176  Female          Yes   55       Yes         Artist              1.0   \n",
              "\n",
              "  Spending_Score  Family_Size  Var_1 Segmentation  \n",
              "0            Low          4.0  Cat_4            D  \n",
              "1        Average          3.0  Cat_4            A  \n",
              "2            Low          1.0  Cat_6            B  \n",
              "3           High          2.0  Cat_6            B  \n",
              "4           High          6.0  Cat_6            A  \n",
              "5        Average          2.0  Cat_6            C  \n",
              "6            Low          3.0  Cat_6            C  \n",
              "7            Low          3.0  Cat_6            D  \n",
              "8            Low          3.0  Cat_7            D  \n",
              "9        Average          4.0  Cat_6            C  "
            ],
            "text/html": [
              "\n",
              "  <div id=\"df-81f68def-d56b-4e3a-985a-eb0cbff964ea\">\n",
              "    <div class=\"colab-df-container\">\n",
              "      <div>\n",
              "<style scoped>\n",
              "    .dataframe tbody tr th:only-of-type {\n",
              "        vertical-align: middle;\n",
              "    }\n",
              "\n",
              "    .dataframe tbody tr th {\n",
              "        vertical-align: top;\n",
              "    }\n",
              "\n",
              "    .dataframe thead th {\n",
              "        text-align: right;\n",
              "    }\n",
              "</style>\n",
              "<table border=\"1\" class=\"dataframe\">\n",
              "  <thead>\n",
              "    <tr style=\"text-align: right;\">\n",
              "      <th></th>\n",
              "      <th>ID</th>\n",
              "      <th>Gender</th>\n",
              "      <th>Ever_Married</th>\n",
              "      <th>Age</th>\n",
              "      <th>Graduated</th>\n",
              "      <th>Profession</th>\n",
              "      <th>Work_Experience</th>\n",
              "      <th>Spending_Score</th>\n",
              "      <th>Family_Size</th>\n",
              "      <th>Var_1</th>\n",
              "      <th>Segmentation</th>\n",
              "    </tr>\n",
              "  </thead>\n",
              "  <tbody>\n",
              "    <tr>\n",
              "      <th>0</th>\n",
              "      <td>462809</td>\n",
              "      <td>Male</td>\n",
              "      <td>No</td>\n",
              "      <td>22</td>\n",
              "      <td>No</td>\n",
              "      <td>Healthcare</td>\n",
              "      <td>1.0</td>\n",
              "      <td>Low</td>\n",
              "      <td>4.0</td>\n",
              "      <td>Cat_4</td>\n",
              "      <td>D</td>\n",
              "    </tr>\n",
              "    <tr>\n",
              "      <th>1</th>\n",
              "      <td>462643</td>\n",
              "      <td>Female</td>\n",
              "      <td>Yes</td>\n",
              "      <td>38</td>\n",
              "      <td>Yes</td>\n",
              "      <td>Engineer</td>\n",
              "      <td>NaN</td>\n",
              "      <td>Average</td>\n",
              "      <td>3.0</td>\n",
              "      <td>Cat_4</td>\n",
              "      <td>A</td>\n",
              "    </tr>\n",
              "    <tr>\n",
              "      <th>2</th>\n",
              "      <td>466315</td>\n",
              "      <td>Female</td>\n",
              "      <td>Yes</td>\n",
              "      <td>67</td>\n",
              "      <td>Yes</td>\n",
              "      <td>Engineer</td>\n",
              "      <td>1.0</td>\n",
              "      <td>Low</td>\n",
              "      <td>1.0</td>\n",
              "      <td>Cat_6</td>\n",
              "      <td>B</td>\n",
              "    </tr>\n",
              "    <tr>\n",
              "      <th>3</th>\n",
              "      <td>461735</td>\n",
              "      <td>Male</td>\n",
              "      <td>Yes</td>\n",
              "      <td>67</td>\n",
              "      <td>Yes</td>\n",
              "      <td>Lawyer</td>\n",
              "      <td>0.0</td>\n",
              "      <td>High</td>\n",
              "      <td>2.0</td>\n",
              "      <td>Cat_6</td>\n",
              "      <td>B</td>\n",
              "    </tr>\n",
              "    <tr>\n",
              "      <th>4</th>\n",
              "      <td>462669</td>\n",
              "      <td>Female</td>\n",
              "      <td>Yes</td>\n",
              "      <td>40</td>\n",
              "      <td>Yes</td>\n",
              "      <td>Entertainment</td>\n",
              "      <td>NaN</td>\n",
              "      <td>High</td>\n",
              "      <td>6.0</td>\n",
              "      <td>Cat_6</td>\n",
              "      <td>A</td>\n",
              "    </tr>\n",
              "    <tr>\n",
              "      <th>5</th>\n",
              "      <td>461319</td>\n",
              "      <td>Male</td>\n",
              "      <td>Yes</td>\n",
              "      <td>56</td>\n",
              "      <td>No</td>\n",
              "      <td>Artist</td>\n",
              "      <td>0.0</td>\n",
              "      <td>Average</td>\n",
              "      <td>2.0</td>\n",
              "      <td>Cat_6</td>\n",
              "      <td>C</td>\n",
              "    </tr>\n",
              "    <tr>\n",
              "      <th>6</th>\n",
              "      <td>460156</td>\n",
              "      <td>Male</td>\n",
              "      <td>No</td>\n",
              "      <td>32</td>\n",
              "      <td>Yes</td>\n",
              "      <td>Healthcare</td>\n",
              "      <td>1.0</td>\n",
              "      <td>Low</td>\n",
              "      <td>3.0</td>\n",
              "      <td>Cat_6</td>\n",
              "      <td>C</td>\n",
              "    </tr>\n",
              "    <tr>\n",
              "      <th>7</th>\n",
              "      <td>464347</td>\n",
              "      <td>Female</td>\n",
              "      <td>No</td>\n",
              "      <td>33</td>\n",
              "      <td>Yes</td>\n",
              "      <td>Healthcare</td>\n",
              "      <td>1.0</td>\n",
              "      <td>Low</td>\n",
              "      <td>3.0</td>\n",
              "      <td>Cat_6</td>\n",
              "      <td>D</td>\n",
              "    </tr>\n",
              "    <tr>\n",
              "      <th>8</th>\n",
              "      <td>465015</td>\n",
              "      <td>Female</td>\n",
              "      <td>Yes</td>\n",
              "      <td>61</td>\n",
              "      <td>Yes</td>\n",
              "      <td>Engineer</td>\n",
              "      <td>0.0</td>\n",
              "      <td>Low</td>\n",
              "      <td>3.0</td>\n",
              "      <td>Cat_7</td>\n",
              "      <td>D</td>\n",
              "    </tr>\n",
              "    <tr>\n",
              "      <th>9</th>\n",
              "      <td>465176</td>\n",
              "      <td>Female</td>\n",
              "      <td>Yes</td>\n",
              "      <td>55</td>\n",
              "      <td>Yes</td>\n",
              "      <td>Artist</td>\n",
              "      <td>1.0</td>\n",
              "      <td>Average</td>\n",
              "      <td>4.0</td>\n",
              "      <td>Cat_6</td>\n",
              "      <td>C</td>\n",
              "    </tr>\n",
              "  </tbody>\n",
              "</table>\n",
              "</div>\n",
              "      <button class=\"colab-df-convert\" onclick=\"convertToInteractive('df-81f68def-d56b-4e3a-985a-eb0cbff964ea')\"\n",
              "              title=\"Convert this dataframe to an interactive table.\"\n",
              "              style=\"display:none;\">\n",
              "        \n",
              "  <svg xmlns=\"http://www.w3.org/2000/svg\" height=\"24px\"viewBox=\"0 0 24 24\"\n",
              "       width=\"24px\">\n",
              "    <path d=\"M0 0h24v24H0V0z\" fill=\"none\"/>\n",
              "    <path d=\"M18.56 5.44l.94 2.06.94-2.06 2.06-.94-2.06-.94-.94-2.06-.94 2.06-2.06.94zm-11 1L8.5 8.5l.94-2.06 2.06-.94-2.06-.94L8.5 2.5l-.94 2.06-2.06.94zm10 10l.94 2.06.94-2.06 2.06-.94-2.06-.94-.94-2.06-.94 2.06-2.06.94z\"/><path d=\"M17.41 7.96l-1.37-1.37c-.4-.4-.92-.59-1.43-.59-.52 0-1.04.2-1.43.59L10.3 9.45l-7.72 7.72c-.78.78-.78 2.05 0 2.83L4 21.41c.39.39.9.59 1.41.59.51 0 1.02-.2 1.41-.59l7.78-7.78 2.81-2.81c.8-.78.8-2.07 0-2.86zM5.41 20L4 18.59l7.72-7.72 1.47 1.35L5.41 20z\"/>\n",
              "  </svg>\n",
              "      </button>\n",
              "      \n",
              "  <style>\n",
              "    .colab-df-container {\n",
              "      display:flex;\n",
              "      flex-wrap:wrap;\n",
              "      gap: 12px;\n",
              "    }\n",
              "\n",
              "    .colab-df-convert {\n",
              "      background-color: #E8F0FE;\n",
              "      border: none;\n",
              "      border-radius: 50%;\n",
              "      cursor: pointer;\n",
              "      display: none;\n",
              "      fill: #1967D2;\n",
              "      height: 32px;\n",
              "      padding: 0 0 0 0;\n",
              "      width: 32px;\n",
              "    }\n",
              "\n",
              "    .colab-df-convert:hover {\n",
              "      background-color: #E2EBFA;\n",
              "      box-shadow: 0px 1px 2px rgba(60, 64, 67, 0.3), 0px 1px 3px 1px rgba(60, 64, 67, 0.15);\n",
              "      fill: #174EA6;\n",
              "    }\n",
              "\n",
              "    [theme=dark] .colab-df-convert {\n",
              "      background-color: #3B4455;\n",
              "      fill: #D2E3FC;\n",
              "    }\n",
              "\n",
              "    [theme=dark] .colab-df-convert:hover {\n",
              "      background-color: #434B5C;\n",
              "      box-shadow: 0px 1px 3px 1px rgba(0, 0, 0, 0.15);\n",
              "      filter: drop-shadow(0px 1px 2px rgba(0, 0, 0, 0.3));\n",
              "      fill: #FFFFFF;\n",
              "    }\n",
              "  </style>\n",
              "\n",
              "      <script>\n",
              "        const buttonEl =\n",
              "          document.querySelector('#df-81f68def-d56b-4e3a-985a-eb0cbff964ea button.colab-df-convert');\n",
              "        buttonEl.style.display =\n",
              "          google.colab.kernel.accessAllowed ? 'block' : 'none';\n",
              "\n",
              "        async function convertToInteractive(key) {\n",
              "          const element = document.querySelector('#df-81f68def-d56b-4e3a-985a-eb0cbff964ea');\n",
              "          const dataTable =\n",
              "            await google.colab.kernel.invokeFunction('convertToInteractive',\n",
              "                                                     [key], {});\n",
              "          if (!dataTable) return;\n",
              "\n",
              "          const docLinkHtml = 'Like what you see? Visit the ' +\n",
              "            '<a target=\"_blank\" href=https://colab.research.google.com/notebooks/data_table.ipynb>data table notebook</a>'\n",
              "            + ' to learn more about interactive tables.';\n",
              "          element.innerHTML = '';\n",
              "          dataTable['output_type'] = 'display_data';\n",
              "          await google.colab.output.renderOutput(dataTable, element);\n",
              "          const docLink = document.createElement('div');\n",
              "          docLink.innerHTML = docLinkHtml;\n",
              "          element.appendChild(docLink);\n",
              "        }\n",
              "      </script>\n",
              "    </div>\n",
              "  </div>\n",
              "  "
            ]
          },
          "metadata": {},
          "execution_count": 74
        }
      ]
    },
    {
      "cell_type": "code",
      "source": [
        "df.columns"
      ],
      "metadata": {
        "colab": {
          "base_uri": "https://localhost:8080/"
        },
        "id": "hTUjuvnej7rc",
        "outputId": "6d5d16c6-aaae-4756-82d2-bdff62a4b3bf"
      },
      "execution_count": null,
      "outputs": [
        {
          "output_type": "execute_result",
          "data": {
            "text/plain": [
              "Index(['ID', 'Gender', 'Ever_Married', 'Age', 'Graduated', 'Profession',\n",
              "       'Work_Experience', 'Spending_Score', 'Family_Size', 'Var_1',\n",
              "       'Segmentation'],\n",
              "      dtype='object')"
            ]
          },
          "metadata": {},
          "execution_count": 75
        }
      ]
    },
    {
      "cell_type": "code",
      "source": [
        "df.dtypes"
      ],
      "metadata": {
        "colab": {
          "base_uri": "https://localhost:8080/"
        },
        "id": "EZz1eif4kvC6",
        "outputId": "d9028cfd-9d0a-4231-db88-39b30bdc8c1f"
      },
      "execution_count": null,
      "outputs": [
        {
          "output_type": "execute_result",
          "data": {
            "text/plain": [
              "ID                   int64\n",
              "Gender              object\n",
              "Ever_Married        object\n",
              "Age                  int64\n",
              "Graduated           object\n",
              "Profession          object\n",
              "Work_Experience    float64\n",
              "Spending_Score      object\n",
              "Family_Size        float64\n",
              "Var_1               object\n",
              "Segmentation        object\n",
              "dtype: object"
            ]
          },
          "metadata": {},
          "execution_count": 76
        }
      ]
    },
    {
      "cell_type": "code",
      "source": [
        "df.shape\n"
      ],
      "metadata": {
        "colab": {
          "base_uri": "https://localhost:8080/"
        },
        "id": "ut0YxFXyk1XO",
        "outputId": "51f60ad7-adae-42e0-f181-ede608bc9a2a"
      },
      "execution_count": null,
      "outputs": [
        {
          "output_type": "execute_result",
          "data": {
            "text/plain": [
              "(10695, 11)"
            ]
          },
          "metadata": {},
          "execution_count": 77
        }
      ]
    },
    {
      "cell_type": "code",
      "source": [
        "df.isnull().sum()"
      ],
      "metadata": {
        "colab": {
          "base_uri": "https://localhost:8080/"
        },
        "id": "zOiT3CM0lrSb",
        "outputId": "976a55f0-279f-4dcb-8710-01ce19f9eb35"
      },
      "execution_count": null,
      "outputs": [
        {
          "output_type": "execute_result",
          "data": {
            "text/plain": [
              "ID                    0\n",
              "Gender                0\n",
              "Ever_Married        190\n",
              "Age                   0\n",
              "Graduated           102\n",
              "Profession          162\n",
              "Work_Experience    1098\n",
              "Spending_Score        0\n",
              "Family_Size         448\n",
              "Var_1               108\n",
              "Segmentation          0\n",
              "dtype: int64"
            ]
          },
          "metadata": {},
          "execution_count": 78
        }
      ]
    },
    {
      "cell_type": "code",
      "source": [
        "df_processed=df.dropna(axis=0)"
      ],
      "metadata": {
        "id": "nW2BpTRml1T-"
      },
      "execution_count": null,
      "outputs": []
    },
    {
      "cell_type": "code",
      "source": [
        "df_processed.head()"
      ],
      "metadata": {
        "colab": {
          "base_uri": "https://localhost:8080/",
          "height": 206
        },
        "id": "rAInhHW8mkcW",
        "outputId": "997fb078-bce2-4604-fa1e-5a080a6804de"
      },
      "execution_count": null,
      "outputs": [
        {
          "output_type": "execute_result",
          "data": {
            "text/plain": [
              "       ID  Gender Ever_Married  Age Graduated  Profession  Work_Experience  \\\n",
              "0  462809    Male           No   22        No  Healthcare              1.0   \n",
              "2  466315  Female          Yes   67       Yes    Engineer              1.0   \n",
              "3  461735    Male          Yes   67       Yes      Lawyer              0.0   \n",
              "5  461319    Male          Yes   56        No      Artist              0.0   \n",
              "6  460156    Male           No   32       Yes  Healthcare              1.0   \n",
              "\n",
              "  Spending_Score  Family_Size  Var_1 Segmentation  \n",
              "0            Low          4.0  Cat_4            D  \n",
              "2            Low          1.0  Cat_6            B  \n",
              "3           High          2.0  Cat_6            B  \n",
              "5        Average          2.0  Cat_6            C  \n",
              "6            Low          3.0  Cat_6            C  "
            ],
            "text/html": [
              "\n",
              "  <div id=\"df-a086c600-34d1-4b69-a9b1-e10bd1fc766c\">\n",
              "    <div class=\"colab-df-container\">\n",
              "      <div>\n",
              "<style scoped>\n",
              "    .dataframe tbody tr th:only-of-type {\n",
              "        vertical-align: middle;\n",
              "    }\n",
              "\n",
              "    .dataframe tbody tr th {\n",
              "        vertical-align: top;\n",
              "    }\n",
              "\n",
              "    .dataframe thead th {\n",
              "        text-align: right;\n",
              "    }\n",
              "</style>\n",
              "<table border=\"1\" class=\"dataframe\">\n",
              "  <thead>\n",
              "    <tr style=\"text-align: right;\">\n",
              "      <th></th>\n",
              "      <th>ID</th>\n",
              "      <th>Gender</th>\n",
              "      <th>Ever_Married</th>\n",
              "      <th>Age</th>\n",
              "      <th>Graduated</th>\n",
              "      <th>Profession</th>\n",
              "      <th>Work_Experience</th>\n",
              "      <th>Spending_Score</th>\n",
              "      <th>Family_Size</th>\n",
              "      <th>Var_1</th>\n",
              "      <th>Segmentation</th>\n",
              "    </tr>\n",
              "  </thead>\n",
              "  <tbody>\n",
              "    <tr>\n",
              "      <th>0</th>\n",
              "      <td>462809</td>\n",
              "      <td>Male</td>\n",
              "      <td>No</td>\n",
              "      <td>22</td>\n",
              "      <td>No</td>\n",
              "      <td>Healthcare</td>\n",
              "      <td>1.0</td>\n",
              "      <td>Low</td>\n",
              "      <td>4.0</td>\n",
              "      <td>Cat_4</td>\n",
              "      <td>D</td>\n",
              "    </tr>\n",
              "    <tr>\n",
              "      <th>2</th>\n",
              "      <td>466315</td>\n",
              "      <td>Female</td>\n",
              "      <td>Yes</td>\n",
              "      <td>67</td>\n",
              "      <td>Yes</td>\n",
              "      <td>Engineer</td>\n",
              "      <td>1.0</td>\n",
              "      <td>Low</td>\n",
              "      <td>1.0</td>\n",
              "      <td>Cat_6</td>\n",
              "      <td>B</td>\n",
              "    </tr>\n",
              "    <tr>\n",
              "      <th>3</th>\n",
              "      <td>461735</td>\n",
              "      <td>Male</td>\n",
              "      <td>Yes</td>\n",
              "      <td>67</td>\n",
              "      <td>Yes</td>\n",
              "      <td>Lawyer</td>\n",
              "      <td>0.0</td>\n",
              "      <td>High</td>\n",
              "      <td>2.0</td>\n",
              "      <td>Cat_6</td>\n",
              "      <td>B</td>\n",
              "    </tr>\n",
              "    <tr>\n",
              "      <th>5</th>\n",
              "      <td>461319</td>\n",
              "      <td>Male</td>\n",
              "      <td>Yes</td>\n",
              "      <td>56</td>\n",
              "      <td>No</td>\n",
              "      <td>Artist</td>\n",
              "      <td>0.0</td>\n",
              "      <td>Average</td>\n",
              "      <td>2.0</td>\n",
              "      <td>Cat_6</td>\n",
              "      <td>C</td>\n",
              "    </tr>\n",
              "    <tr>\n",
              "      <th>6</th>\n",
              "      <td>460156</td>\n",
              "      <td>Male</td>\n",
              "      <td>No</td>\n",
              "      <td>32</td>\n",
              "      <td>Yes</td>\n",
              "      <td>Healthcare</td>\n",
              "      <td>1.0</td>\n",
              "      <td>Low</td>\n",
              "      <td>3.0</td>\n",
              "      <td>Cat_6</td>\n",
              "      <td>C</td>\n",
              "    </tr>\n",
              "  </tbody>\n",
              "</table>\n",
              "</div>\n",
              "      <button class=\"colab-df-convert\" onclick=\"convertToInteractive('df-a086c600-34d1-4b69-a9b1-e10bd1fc766c')\"\n",
              "              title=\"Convert this dataframe to an interactive table.\"\n",
              "              style=\"display:none;\">\n",
              "        \n",
              "  <svg xmlns=\"http://www.w3.org/2000/svg\" height=\"24px\"viewBox=\"0 0 24 24\"\n",
              "       width=\"24px\">\n",
              "    <path d=\"M0 0h24v24H0V0z\" fill=\"none\"/>\n",
              "    <path d=\"M18.56 5.44l.94 2.06.94-2.06 2.06-.94-2.06-.94-.94-2.06-.94 2.06-2.06.94zm-11 1L8.5 8.5l.94-2.06 2.06-.94-2.06-.94L8.5 2.5l-.94 2.06-2.06.94zm10 10l.94 2.06.94-2.06 2.06-.94-2.06-.94-.94-2.06-.94 2.06-2.06.94z\"/><path d=\"M17.41 7.96l-1.37-1.37c-.4-.4-.92-.59-1.43-.59-.52 0-1.04.2-1.43.59L10.3 9.45l-7.72 7.72c-.78.78-.78 2.05 0 2.83L4 21.41c.39.39.9.59 1.41.59.51 0 1.02-.2 1.41-.59l7.78-7.78 2.81-2.81c.8-.78.8-2.07 0-2.86zM5.41 20L4 18.59l7.72-7.72 1.47 1.35L5.41 20z\"/>\n",
              "  </svg>\n",
              "      </button>\n",
              "      \n",
              "  <style>\n",
              "    .colab-df-container {\n",
              "      display:flex;\n",
              "      flex-wrap:wrap;\n",
              "      gap: 12px;\n",
              "    }\n",
              "\n",
              "    .colab-df-convert {\n",
              "      background-color: #E8F0FE;\n",
              "      border: none;\n",
              "      border-radius: 50%;\n",
              "      cursor: pointer;\n",
              "      display: none;\n",
              "      fill: #1967D2;\n",
              "      height: 32px;\n",
              "      padding: 0 0 0 0;\n",
              "      width: 32px;\n",
              "    }\n",
              "\n",
              "    .colab-df-convert:hover {\n",
              "      background-color: #E2EBFA;\n",
              "      box-shadow: 0px 1px 2px rgba(60, 64, 67, 0.3), 0px 1px 3px 1px rgba(60, 64, 67, 0.15);\n",
              "      fill: #174EA6;\n",
              "    }\n",
              "\n",
              "    [theme=dark] .colab-df-convert {\n",
              "      background-color: #3B4455;\n",
              "      fill: #D2E3FC;\n",
              "    }\n",
              "\n",
              "    [theme=dark] .colab-df-convert:hover {\n",
              "      background-color: #434B5C;\n",
              "      box-shadow: 0px 1px 3px 1px rgba(0, 0, 0, 0.15);\n",
              "      filter: drop-shadow(0px 1px 2px rgba(0, 0, 0, 0.3));\n",
              "      fill: #FFFFFF;\n",
              "    }\n",
              "  </style>\n",
              "\n",
              "      <script>\n",
              "        const buttonEl =\n",
              "          document.querySelector('#df-a086c600-34d1-4b69-a9b1-e10bd1fc766c button.colab-df-convert');\n",
              "        buttonEl.style.display =\n",
              "          google.colab.kernel.accessAllowed ? 'block' : 'none';\n",
              "\n",
              "        async function convertToInteractive(key) {\n",
              "          const element = document.querySelector('#df-a086c600-34d1-4b69-a9b1-e10bd1fc766c');\n",
              "          const dataTable =\n",
              "            await google.colab.kernel.invokeFunction('convertToInteractive',\n",
              "                                                     [key], {});\n",
              "          if (!dataTable) return;\n",
              "\n",
              "          const docLinkHtml = 'Like what you see? Visit the ' +\n",
              "            '<a target=\"_blank\" href=https://colab.research.google.com/notebooks/data_table.ipynb>data table notebook</a>'\n",
              "            + ' to learn more about interactive tables.';\n",
              "          element.innerHTML = '';\n",
              "          dataTable['output_type'] = 'display_data';\n",
              "          await google.colab.output.renderOutput(dataTable, element);\n",
              "          const docLink = document.createElement('div');\n",
              "          docLink.innerHTML = docLinkHtml;\n",
              "          element.appendChild(docLink);\n",
              "        }\n",
              "      </script>\n",
              "    </div>\n",
              "  </div>\n",
              "  "
            ]
          },
          "metadata": {},
          "execution_count": 80
        }
      ]
    },
    {
      "cell_type": "code",
      "source": [
        "df_processed.isnull().sum()"
      ],
      "metadata": {
        "colab": {
          "base_uri": "https://localhost:8080/"
        },
        "id": "EMHiyvVImnWW",
        "outputId": "851b3bcf-8d31-405e-9789-5849d230199e"
      },
      "execution_count": null,
      "outputs": [
        {
          "output_type": "execute_result",
          "data": {
            "text/plain": [
              "ID                 0\n",
              "Gender             0\n",
              "Ever_Married       0\n",
              "Age                0\n",
              "Graduated          0\n",
              "Profession         0\n",
              "Work_Experience    0\n",
              "Spending_Score     0\n",
              "Family_Size        0\n",
              "Var_1              0\n",
              "Segmentation       0\n",
              "dtype: int64"
            ]
          },
          "metadata": {},
          "execution_count": 81
        }
      ]
    },
    {
      "cell_type": "code",
      "source": [
        "df_processed.shape"
      ],
      "metadata": {
        "colab": {
          "base_uri": "https://localhost:8080/"
        },
        "id": "2oCLAZ0Ymr6Y",
        "outputId": "30017a56-d184-4aa8-e705-51653a396d50"
      },
      "execution_count": null,
      "outputs": [
        {
          "output_type": "execute_result",
          "data": {
            "text/plain": [
              "(8819, 11)"
            ]
          },
          "metadata": {},
          "execution_count": 82
        }
      ]
    },
    {
      "cell_type": "code",
      "source": [
        "df_processed.dtypes"
      ],
      "metadata": {
        "colab": {
          "base_uri": "https://localhost:8080/"
        },
        "id": "ZcFEr38pm-z_",
        "outputId": "3fb4b784-c2a7-40b4-b7ed-7ffc8ad9e08c"
      },
      "execution_count": null,
      "outputs": [
        {
          "output_type": "execute_result",
          "data": {
            "text/plain": [
              "ID                   int64\n",
              "Gender              object\n",
              "Ever_Married        object\n",
              "Age                  int64\n",
              "Graduated           object\n",
              "Profession          object\n",
              "Work_Experience    float64\n",
              "Spending_Score      object\n",
              "Family_Size        float64\n",
              "Var_1               object\n",
              "Segmentation        object\n",
              "dtype: object"
            ]
          },
          "metadata": {},
          "execution_count": 83
        }
      ]
    },
    {
      "cell_type": "code",
      "source": [
        "df_processed['Gender'].unique()"
      ],
      "metadata": {
        "colab": {
          "base_uri": "https://localhost:8080/"
        },
        "id": "Z56TEQkWnE0f",
        "outputId": "cddf86a9-5edf-49e4-f571-ee03f0653085"
      },
      "execution_count": null,
      "outputs": [
        {
          "output_type": "execute_result",
          "data": {
            "text/plain": [
              "array(['Male', 'Female'], dtype=object)"
            ]
          },
          "metadata": {},
          "execution_count": 84
        }
      ]
    },
    {
      "cell_type": "code",
      "source": [
        "\n",
        "df_processed['Ever_Married'].unique()"
      ],
      "metadata": {
        "colab": {
          "base_uri": "https://localhost:8080/"
        },
        "id": "iNlhkSUBnbDC",
        "outputId": "9c447835-80cf-4037-c264-9bd9dde1cd0f"
      },
      "execution_count": null,
      "outputs": [
        {
          "output_type": "execute_result",
          "data": {
            "text/plain": [
              "array(['No', 'Yes'], dtype=object)"
            ]
          },
          "metadata": {},
          "execution_count": 85
        }
      ]
    },
    {
      "cell_type": "code",
      "source": [
        "\n",
        "df_processed['Graduated'].unique()"
      ],
      "metadata": {
        "colab": {
          "base_uri": "https://localhost:8080/"
        },
        "id": "lDYnh1WApacJ",
        "outputId": "58d76eb2-43a8-45f3-ff27-6482c010e2fa"
      },
      "execution_count": null,
      "outputs": [
        {
          "output_type": "execute_result",
          "data": {
            "text/plain": [
              "array(['No', 'Yes'], dtype=object)"
            ]
          },
          "metadata": {},
          "execution_count": 86
        }
      ]
    },
    {
      "cell_type": "code",
      "source": [
        "\n",
        "df_processed['Profession'].unique()"
      ],
      "metadata": {
        "colab": {
          "base_uri": "https://localhost:8080/"
        },
        "id": "8FmqLjAmpd2g",
        "outputId": "bbe1e883-4f57-459b-c82d-897b3ddcdd16"
      },
      "execution_count": null,
      "outputs": [
        {
          "output_type": "execute_result",
          "data": {
            "text/plain": [
              "array(['Healthcare', 'Engineer', 'Lawyer', 'Artist', 'Doctor',\n",
              "       'Homemaker', 'Entertainment', 'Marketing', 'Executive'],\n",
              "      dtype=object)"
            ]
          },
          "metadata": {},
          "execution_count": 87
        }
      ]
    },
    {
      "cell_type": "code",
      "source": [
        "\n",
        "df_processed['Spending_Score'].unique()"
      ],
      "metadata": {
        "colab": {
          "base_uri": "https://localhost:8080/"
        },
        "id": "P128wcigphPA",
        "outputId": "b4858268-7823-4ae8-f800-5dddd5d93178"
      },
      "execution_count": null,
      "outputs": [
        {
          "output_type": "execute_result",
          "data": {
            "text/plain": [
              "array(['Low', 'High', 'Average'], dtype=object)"
            ]
          },
          "metadata": {},
          "execution_count": 88
        }
      ]
    },
    {
      "cell_type": "code",
      "source": [
        "\n",
        "df_processed['Var_1'].unique()"
      ],
      "metadata": {
        "colab": {
          "base_uri": "https://localhost:8080/"
        },
        "id": "tmqegohJpkKV",
        "outputId": "5cfbd151-db18-4dc3-cb8f-9c76c9d1d7e3"
      },
      "execution_count": null,
      "outputs": [
        {
          "output_type": "execute_result",
          "data": {
            "text/plain": [
              "array(['Cat_4', 'Cat_6', 'Cat_7', 'Cat_3', 'Cat_1', 'Cat_2', 'Cat_5'],\n",
              "      dtype=object)"
            ]
          },
          "metadata": {},
          "execution_count": 89
        }
      ]
    },
    {
      "cell_type": "code",
      "source": [
        "\n",
        "df_processed['Segmentation'].unique()"
      ],
      "metadata": {
        "colab": {
          "base_uri": "https://localhost:8080/"
        },
        "id": "lfB5PcJ4ptwH",
        "outputId": "95d93e95-ad13-4f05-a507-bcb457cb2f0b"
      },
      "execution_count": null,
      "outputs": [
        {
          "output_type": "execute_result",
          "data": {
            "text/plain": [
              "array(['D', 'B', 'C', 'A'], dtype=object)"
            ]
          },
          "metadata": {},
          "execution_count": 90
        }
      ]
    },
    {
      "cell_type": "code",
      "source": [],
      "metadata": {
        "id": "DYv8rwELqrYS"
      },
      "execution_count": null,
      "outputs": []
    },
    {
      "cell_type": "code",
      "source": [
        "\n",
        "categories_list=[['Male', 'Female'],\n",
        "           ['No', 'Yes'],\n",
        "           ['No', 'Yes'],\n",
        "           ['Healthcare', 'Engineer', 'Lawyer', 'Artist', 'Doctor',\n",
        "            'Homemaker', 'Entertainment', 'Marketing', 'Executive'],\n",
        "           ['Low', 'Average', 'High']\n",
        "           ]\n",
        "enc = OrdinalEncoder(categories=categories_list)"
      ],
      "metadata": {
        "id": "eq9YcfyIpxaa"
      },
      "execution_count": null,
      "outputs": []
    },
    {
      "cell_type": "code",
      "source": [
        "enc"
      ],
      "metadata": {
        "colab": {
          "base_uri": "https://localhost:8080/",
          "height": 144
        },
        "id": "8f1LH4Z5sVf9",
        "outputId": "efc8f577-dacc-41fa-c217-30bb8ba17350"
      },
      "execution_count": null,
      "outputs": [
        {
          "output_type": "execute_result",
          "data": {
            "text/plain": [
              "OrdinalEncoder(categories=[['Male', 'Female'], ['No', 'Yes'], ['No', 'Yes'],\n",
              "                           ['Healthcare', 'Engineer', 'Lawyer', 'Artist',\n",
              "                            'Doctor', 'Homemaker', 'Entertainment', 'Marketing',\n",
              "                            'Executive'],\n",
              "                           ['Low', 'Average', 'High']])"
            ],
            "text/html": [
              "<style>#sk-container-id-4 {color: black;background-color: white;}#sk-container-id-4 pre{padding: 0;}#sk-container-id-4 div.sk-toggleable {background-color: white;}#sk-container-id-4 label.sk-toggleable__label {cursor: pointer;display: block;width: 100%;margin-bottom: 0;padding: 0.3em;box-sizing: border-box;text-align: center;}#sk-container-id-4 label.sk-toggleable__label-arrow:before {content: \"▸\";float: left;margin-right: 0.25em;color: #696969;}#sk-container-id-4 label.sk-toggleable__label-arrow:hover:before {color: black;}#sk-container-id-4 div.sk-estimator:hover label.sk-toggleable__label-arrow:before {color: black;}#sk-container-id-4 div.sk-toggleable__content {max-height: 0;max-width: 0;overflow: hidden;text-align: left;background-color: #f0f8ff;}#sk-container-id-4 div.sk-toggleable__content pre {margin: 0.2em;color: black;border-radius: 0.25em;background-color: #f0f8ff;}#sk-container-id-4 input.sk-toggleable__control:checked~div.sk-toggleable__content {max-height: 200px;max-width: 100%;overflow: auto;}#sk-container-id-4 input.sk-toggleable__control:checked~label.sk-toggleable__label-arrow:before {content: \"▾\";}#sk-container-id-4 div.sk-estimator input.sk-toggleable__control:checked~label.sk-toggleable__label {background-color: #d4ebff;}#sk-container-id-4 div.sk-label input.sk-toggleable__control:checked~label.sk-toggleable__label {background-color: #d4ebff;}#sk-container-id-4 input.sk-hidden--visually {border: 0;clip: rect(1px 1px 1px 1px);clip: rect(1px, 1px, 1px, 1px);height: 1px;margin: -1px;overflow: hidden;padding: 0;position: absolute;width: 1px;}#sk-container-id-4 div.sk-estimator {font-family: monospace;background-color: #f0f8ff;border: 1px dotted black;border-radius: 0.25em;box-sizing: border-box;margin-bottom: 0.5em;}#sk-container-id-4 div.sk-estimator:hover {background-color: #d4ebff;}#sk-container-id-4 div.sk-parallel-item::after {content: \"\";width: 100%;border-bottom: 1px solid gray;flex-grow: 1;}#sk-container-id-4 div.sk-label:hover label.sk-toggleable__label {background-color: #d4ebff;}#sk-container-id-4 div.sk-serial::before {content: \"\";position: absolute;border-left: 1px solid gray;box-sizing: border-box;top: 0;bottom: 0;left: 50%;z-index: 0;}#sk-container-id-4 div.sk-serial {display: flex;flex-direction: column;align-items: center;background-color: white;padding-right: 0.2em;padding-left: 0.2em;position: relative;}#sk-container-id-4 div.sk-item {position: relative;z-index: 1;}#sk-container-id-4 div.sk-parallel {display: flex;align-items: stretch;justify-content: center;background-color: white;position: relative;}#sk-container-id-4 div.sk-item::before, #sk-container-id-4 div.sk-parallel-item::before {content: \"\";position: absolute;border-left: 1px solid gray;box-sizing: border-box;top: 0;bottom: 0;left: 50%;z-index: -1;}#sk-container-id-4 div.sk-parallel-item {display: flex;flex-direction: column;z-index: 1;position: relative;background-color: white;}#sk-container-id-4 div.sk-parallel-item:first-child::after {align-self: flex-end;width: 50%;}#sk-container-id-4 div.sk-parallel-item:last-child::after {align-self: flex-start;width: 50%;}#sk-container-id-4 div.sk-parallel-item:only-child::after {width: 0;}#sk-container-id-4 div.sk-dashed-wrapped {border: 1px dashed gray;margin: 0 0.4em 0.5em 0.4em;box-sizing: border-box;padding-bottom: 0.4em;background-color: white;}#sk-container-id-4 div.sk-label label {font-family: monospace;font-weight: bold;display: inline-block;line-height: 1.2em;}#sk-container-id-4 div.sk-label-container {text-align: center;}#sk-container-id-4 div.sk-container {/* jupyter's `normalize.less` sets `[hidden] { display: none; }` but bootstrap.min.css set `[hidden] { display: none !important; }` so we also need the `!important` here to be able to override the default hidden behavior on the sphinx rendered scikit-learn.org. See: https://github.com/scikit-learn/scikit-learn/issues/21755 */display: inline-block !important;position: relative;}#sk-container-id-4 div.sk-text-repr-fallback {display: none;}</style><div id=\"sk-container-id-4\" class=\"sk-top-container\"><div class=\"sk-text-repr-fallback\"><pre>OrdinalEncoder(categories=[[&#x27;Male&#x27;, &#x27;Female&#x27;], [&#x27;No&#x27;, &#x27;Yes&#x27;], [&#x27;No&#x27;, &#x27;Yes&#x27;],\n",
              "                           [&#x27;Healthcare&#x27;, &#x27;Engineer&#x27;, &#x27;Lawyer&#x27;, &#x27;Artist&#x27;,\n",
              "                            &#x27;Doctor&#x27;, &#x27;Homemaker&#x27;, &#x27;Entertainment&#x27;, &#x27;Marketing&#x27;,\n",
              "                            &#x27;Executive&#x27;],\n",
              "                           [&#x27;Low&#x27;, &#x27;Average&#x27;, &#x27;High&#x27;]])</pre><b>In a Jupyter environment, please rerun this cell to show the HTML representation or trust the notebook. <br />On GitHub, the HTML representation is unable to render, please try loading this page with nbviewer.org.</b></div><div class=\"sk-container\" hidden><div class=\"sk-item\"><div class=\"sk-estimator sk-toggleable\"><input class=\"sk-toggleable__control sk-hidden--visually\" id=\"sk-estimator-id-4\" type=\"checkbox\" checked><label for=\"sk-estimator-id-4\" class=\"sk-toggleable__label sk-toggleable__label-arrow\">OrdinalEncoder</label><div class=\"sk-toggleable__content\"><pre>OrdinalEncoder(categories=[[&#x27;Male&#x27;, &#x27;Female&#x27;], [&#x27;No&#x27;, &#x27;Yes&#x27;], [&#x27;No&#x27;, &#x27;Yes&#x27;],\n",
              "                           [&#x27;Healthcare&#x27;, &#x27;Engineer&#x27;, &#x27;Lawyer&#x27;, &#x27;Artist&#x27;,\n",
              "                            &#x27;Doctor&#x27;, &#x27;Homemaker&#x27;, &#x27;Entertainment&#x27;, &#x27;Marketing&#x27;,\n",
              "                            &#x27;Executive&#x27;],\n",
              "                           [&#x27;Low&#x27;, &#x27;Average&#x27;, &#x27;High&#x27;]])</pre></div></div></div></div></div>"
            ]
          },
          "metadata": {},
          "execution_count": 92
        }
      ]
    },
    {
      "cell_type": "code",
      "source": [
        "df_processed.dtypes"
      ],
      "metadata": {
        "colab": {
          "base_uri": "https://localhost:8080/"
        },
        "id": "4cDqj-V4sJby",
        "outputId": "47cf7528-a677-44ed-bf82-0fdced56c495"
      },
      "execution_count": null,
      "outputs": [
        {
          "output_type": "execute_result",
          "data": {
            "text/plain": [
              "ID                   int64\n",
              "Gender              object\n",
              "Ever_Married        object\n",
              "Age                  int64\n",
              "Graduated           object\n",
              "Profession          object\n",
              "Work_Experience    float64\n",
              "Spending_Score      object\n",
              "Family_Size        float64\n",
              "Var_1               object\n",
              "Segmentation        object\n",
              "dtype: object"
            ]
          },
          "metadata": {},
          "execution_count": 93
        }
      ]
    },
    {
      "cell_type": "code",
      "source": [
        "data = df_processed.copy()"
      ],
      "metadata": {
        "id": "xonZOErUqOfC"
      },
      "execution_count": null,
      "outputs": []
    },
    {
      "cell_type": "code",
      "source": [
        "data[['Gender',\n",
        "             'Ever_Married',\n",
        "              'Graduated','Profession',\n",
        "              'Spending_Score']] = enc.fit_transform(data[['Gender',\n",
        "                                                                 'Ever_Married',\n",
        "                                                                 'Graduated','Profession',\n",
        "                                                                 'Spending_Score']])\n",
        "     "
      ],
      "metadata": {
        "id": "1WasHnQNq32A"
      },
      "execution_count": null,
      "outputs": []
    },
    {
      "cell_type": "code",
      "source": [
        "data.dtypes"
      ],
      "metadata": {
        "colab": {
          "base_uri": "https://localhost:8080/"
        },
        "id": "XvEkxsOArFdw",
        "outputId": "467da7ef-8168-427c-dabe-12a8ca5da15a"
      },
      "execution_count": null,
      "outputs": [
        {
          "output_type": "execute_result",
          "data": {
            "text/plain": [
              "ID                   int64\n",
              "Gender             float64\n",
              "Ever_Married       float64\n",
              "Age                  int64\n",
              "Graduated          float64\n",
              "Profession         float64\n",
              "Work_Experience    float64\n",
              "Spending_Score     float64\n",
              "Family_Size        float64\n",
              "Var_1               object\n",
              "Segmentation        object\n",
              "dtype: object"
            ]
          },
          "metadata": {},
          "execution_count": 96
        }
      ]
    },
    {
      "cell_type": "code",
      "source": [
        "\n",
        "le = LabelEncoder()\n",
        "data['Segmentation'] = le.fit_transform(data['Segmentation'])\n",
        "     "
      ],
      "metadata": {
        "id": "pwjps4GCrH2i"
      },
      "execution_count": null,
      "outputs": []
    },
    {
      "cell_type": "code",
      "source": [
        "\n",
        "data.dtypes\n",
        "     "
      ],
      "metadata": {
        "colab": {
          "base_uri": "https://localhost:8080/"
        },
        "id": "IYlBiPLKrOYE",
        "outputId": "f3fb9500-2a5e-4a17-f9ba-869f27faf107"
      },
      "execution_count": null,
      "outputs": [
        {
          "output_type": "execute_result",
          "data": {
            "text/plain": [
              "ID                   int64\n",
              "Gender             float64\n",
              "Ever_Married       float64\n",
              "Age                  int64\n",
              "Graduated          float64\n",
              "Profession         float64\n",
              "Work_Experience    float64\n",
              "Spending_Score     float64\n",
              "Family_Size        float64\n",
              "Var_1               object\n",
              "Segmentation         int64\n",
              "dtype: object"
            ]
          },
          "metadata": {},
          "execution_count": 98
        }
      ]
    },
    {
      "cell_type": "code",
      "source": [
        "data= data.drop('ID',axis=1)\n",
        "data = data.drop('Var_1',axis=1)\n",
        "     "
      ],
      "metadata": {
        "id": "CoWe6zNorQVp"
      },
      "execution_count": null,
      "outputs": []
    },
    {
      "cell_type": "code",
      "source": [
        "data.dtypes"
      ],
      "metadata": {
        "colab": {
          "base_uri": "https://localhost:8080/"
        },
        "id": "5GgKriKHrfjn",
        "outputId": "e2ca49b5-a283-4121-c55f-33b908a26d2b"
      },
      "execution_count": null,
      "outputs": [
        {
          "output_type": "execute_result",
          "data": {
            "text/plain": [
              "Gender             float64\n",
              "Ever_Married       float64\n",
              "Age                  int64\n",
              "Graduated          float64\n",
              "Profession         float64\n",
              "Work_Experience    float64\n",
              "Spending_Score     float64\n",
              "Family_Size        float64\n",
              "Segmentation         int64\n",
              "dtype: object"
            ]
          },
          "metadata": {},
          "execution_count": 100
        }
      ]
    },
    {
      "cell_type": "code",
      "source": [
        "# Calculate the correlation matrix\n",
        "corr = data.corr()\n",
        "\n",
        "# Plot the heatmap\n",
        "sns.heatmap(corr, \n",
        "        xticklabels=corr.columns,\n",
        "        yticklabels=corr.columns,\n",
        "        cmap=\"BuPu\",\n",
        "        annot= True)\n",
        "     "
      ],
      "metadata": {
        "colab": {
          "base_uri": "https://localhost:8080/",
          "height": 362
        },
        "id": "saizQiQQrg7Z",
        "outputId": "763d028a-7ecc-49ca-dcd4-435f4e3ec93b"
      },
      "execution_count": null,
      "outputs": [
        {
          "output_type": "execute_result",
          "data": {
            "text/plain": [
              "<Axes: >"
            ]
          },
          "metadata": {},
          "execution_count": 101
        },
        {
          "output_type": "display_data",
          "data": {
            "text/plain": [
              "<Figure size 432x288 with 2 Axes>"
            ],
            "image/png": "[encoded data removed]"
          },
          "metadata": {
            "needs_background": "light"
          }
        }
      ]
    },
    {
      "cell_type": "code",
      "source": [
        "sns.pairplot(data)"
      ],
      "metadata": {
        "colab": {
          "base_uri": "https://localhost:8080/",
          "height": 1000
        },
        "id": "g4dXXg3Irit1",
        "outputId": "ad4c8991-677a-4b1d-90a9-0ac25324f72a"
      },
      "execution_count": null,
      "outputs": [
        {
          "output_type": "execute_result",
          "data": {
            "text/plain": [
              "<seaborn.axisgrid.PairGrid at 0x7f94fc81b640>"
            ]
          },
          "metadata": {},
          "execution_count": 102
        },
        {
          "output_type": "display_data",
          "data": {
            "text/plain": [
              "<Figure size 1620x1620 with 90 Axes>"
            ],
            "image/png": "[encoded data removed]"
          },
          "metadata": {
            "needs_background": "light"
          }
        }
      ]
    },
    {
      "cell_type": "code",
      "source": [
        "sns.distplot(data['Age'])"
      ],
      "metadata": {
        "colab": {
          "base_uri": "https://localhost:8080/",
          "height": 487
        },
        "id": "UkhxVIONsvDX",
        "outputId": "9fdf0012-d89d-4236-eb18-9101275a28dd"
      },
      "execution_count": null,
      "outputs": [
        {
          "output_type": "stream",
          "name": "stderr",
          "text": [
            "<ipython-input-103-ec135ce2bd5e>:1: UserWarning: \n",
            "\n",
            "`distplot` is a deprecated function and will be removed in seaborn v0.14.0.\n",
            "\n",
            "Please adapt your code to use either `displot` (a figure-level function with\n",
            "similar flexibility) or `histplot` (an axes-level function for histograms).\n",
            "\n",
            "For a guide to updating your code to use the new functions, please see\n",
            "https://gist.github.com/mwaskom/de44147ed2974457ad6372750bbe5751\n",
            "\n",
            "  sns.distplot(data['Age'])\n"
          ]
        },
        {
          "output_type": "execute_result",
          "data": {
            "text/plain": [
              "<Axes: xlabel='Age', ylabel='Density'>"
            ]
          },
          "metadata": {},
          "execution_count": 103
        },
        {
          "output_type": "display_data",
          "data": {
            "text/plain": [
              "<Figure size 432x288 with 1 Axes>"
            ],
            "image/png": "[encoded data removed]"
          },
          "metadata": {
            "needs_background": "light"
          }
        }
      ]
    },
    {
      "cell_type": "code",
      "source": [
        "\n",
        "plt.figure(figsize=(2,6))\n",
        "sns.countplot(data['Family_Size'])"
      ],
      "metadata": {
        "colab": {
          "base_uri": "https://localhost:8080/",
          "height": 391
        },
        "id": "FeUfr0pXs3N1",
        "outputId": "4d1a9f3f-c010-44e4-bc86-bb1640b7d98f"
      },
      "execution_count": null,
      "outputs": [
        {
          "output_type": "execute_result",
          "data": {
            "text/plain": [
              "<Axes: ylabel='count'>"
            ]
          },
          "metadata": {},
          "execution_count": 104
        },
        {
          "output_type": "display_data",
          "data": {
            "text/plain": [
              "<Figure size 144x432 with 1 Axes>"
            ],
            "image/png": "[encoded data removed]"
          },
          "metadata": {
            "needs_background": "light"
          }
        }
      ]
    },
    {
      "cell_type": "code",
      "source": [
        "plt.figure(figsize=(10,6))\n",
        "sns.boxplot(x='Family_Size',y='Age',data=data)\n",
        "     "
      ],
      "metadata": {
        "colab": {
          "base_uri": "https://localhost:8080/",
          "height": 406
        },
        "id": "3OLc_Aq8s5Ue",
        "outputId": "8d92cc8e-566e-46e8-cb81-de0aa05da28b"
      },
      "execution_count": null,
      "outputs": [
        {
          "output_type": "execute_result",
          "data": {
            "text/plain": [
              "<Axes: xlabel='Family_Size', ylabel='Age'>"
            ]
          },
          "metadata": {},
          "execution_count": 105
        },
        {
          "output_type": "display_data",
          "data": {
            "text/plain": [
              "<Figure size 720x432 with 1 Axes>"
            ],
            "image/png": "[encoded data removed]"
          },
          "metadata": {
            "needs_background": "light"
          }
        }
      ]
    },
    {
      "cell_type": "code",
      "source": [
        "plt.figure(figsize=(10,6))\n",
        "sns.scatterplot(x='Family_Size',y='Spending_Score',data=data)\n",
        "   "
      ],
      "metadata": {
        "colab": {
          "base_uri": "https://localhost:8080/",
          "height": 406
        },
        "id": "8kT-qY6Js7rK",
        "outputId": "953decff-dc81-4fd1-9c26-c5c9fd2b5cec"
      },
      "execution_count": null,
      "outputs": [
        {
          "output_type": "execute_result",
          "data": {
            "text/plain": [
              "<Axes: xlabel='Family_Size', ylabel='Spending_Score'>"
            ]
          },
          "metadata": {},
          "execution_count": 106
        },
        {
          "output_type": "display_data",
          "data": {
            "text/plain": [
              "<Figure size 720x432 with 1 Axes>"
            ],
            "image/png": "[encoded data removed]"
          },
          "metadata": {
            "needs_background": "light"
          }
        }
      ]
    },
    {
      "cell_type": "code",
      "source": [
        "plt.figure(figsize=(10,6))\n",
        "sns.scatterplot(x='Family_Size',y='Age',data=data)\n",
        "   "
      ],
      "metadata": {
        "colab": {
          "base_uri": "https://localhost:8080/",
          "height": 406
        },
        "id": "tuB8maAUs9h6",
        "outputId": "f551d644-f7c7-481c-de1f-23afb4e20e1e"
      },
      "execution_count": null,
      "outputs": [
        {
          "output_type": "execute_result",
          "data": {
            "text/plain": [
              "<Axes: xlabel='Family_Size', ylabel='Age'>"
            ]
          },
          "metadata": {},
          "execution_count": 107
        },
        {
          "output_type": "display_data",
          "data": {
            "text/plain": [
              "<Figure size 720x432 with 1 Axes>"
            ],
            "image/png": "[encoded data removed]"
          },
          "metadata": {
            "needs_background": "light"
          }
        }
      ]
    },
    {
      "cell_type": "code",
      "source": [
        "data.describe()\n",
        "     "
      ],
      "metadata": {
        "colab": {
          "base_uri": "https://localhost:8080/",
          "height": 300
        },
        "id": "jrdDzfkKs_tt",
        "outputId": "9843e11f-306c-4ce7-ab1f-48a42fb7a081"
      },
      "execution_count": null,
      "outputs": [
        {
          "output_type": "execute_result",
          "data": {
            "text/plain": [
              "            Gender  Ever_Married          Age    Graduated   Profession  \\\n",
              "count  8819.000000   8819.000000  8819.000000  8819.000000  8819.000000   \n",
              "mean      0.448804      0.591450    43.517859     0.634312     3.287561   \n",
              "std       0.497400      0.491594    16.581537     0.481650     2.346652   \n",
              "min       0.000000      0.000000    18.000000     0.000000     0.000000   \n",
              "25%       0.000000      0.000000    31.000000     0.000000     2.000000   \n",
              "50%       0.000000      1.000000    41.000000     1.000000     3.000000   \n",
              "75%       1.000000      1.000000    53.000000     1.000000     5.000000   \n",
              "max       1.000000      1.000000    89.000000     1.000000     8.000000   \n",
              "\n",
              "       Work_Experience  Spending_Score  Family_Size  Segmentation  \n",
              "count      8819.000000     8819.000000  8819.000000   8819.000000  \n",
              "mean          2.610160        0.544846     2.840118      1.518086  \n",
              "std           3.390676        0.738487     1.535051      1.146645  \n",
              "min           0.000000        0.000000     1.000000      0.000000  \n",
              "25%           0.000000        0.000000     2.000000      0.000000  \n",
              "50%           1.000000        0.000000     2.000000      2.000000  \n",
              "75%           4.000000        1.000000     4.000000      3.000000  \n",
              "max          14.000000        2.000000     9.000000      3.000000  "
            ],
            "text/html": [
              "\n",
              "  <div id=\"df-81efcd1e-5776-4a48-8a69-d48cb74bb66b\">\n",
              "    <div class=\"colab-df-container\">\n",
              "      <div>\n",
              "<style scoped>\n",
              "    .dataframe tbody tr th:only-of-type {\n",
              "        vertical-align: middle;\n",
              "    }\n",
              "\n",
              "    .dataframe tbody tr th {\n",
              "        vertical-align: top;\n",
              "    }\n",
              "\n",
              "    .dataframe thead th {\n",
              "        text-align: right;\n",
              "    }\n",
              "</style>\n",
              "<table border=\"1\" class=\"dataframe\">\n",
              "  <thead>\n",
              "    <tr style=\"text-align: right;\">\n",
              "      <th></th>\n",
              "      <th>Gender</th>\n",
              "      <th>Ever_Married</th>\n",
              "      <th>Age</th>\n",
              "      <th>Graduated</th>\n",
              "      <th>Profession</th>\n",
              "      <th>Work_Experience</th>\n",
              "      <th>Spending_Score</th>\n",
              "      <th>Family_Size</th>\n",
              "      <th>Segmentation</th>\n",
              "    </tr>\n",
              "  </thead>\n",
              "  <tbody>\n",
              "    <tr>\n",
              "      <th>count</th>\n",
              "      <td>8819.000000</td>\n",
              "      <td>8819.000000</td>\n",
              "      <td>8819.000000</td>\n",
              "      <td>8819.000000</td>\n",
              "      <td>8819.000000</td>\n",
              "      <td>8819.000000</td>\n",
              "      <td>8819.000000</td>\n",
              "      <td>8819.000000</td>\n",
              "      <td>8819.000000</td>\n",
              "    </tr>\n",
              "    <tr>\n",
              "      <th>mean</th>\n",
              "      <td>0.448804</td>\n",
              "      <td>0.591450</td>\n",
              "      <td>43.517859</td>\n",
              "      <td>0.634312</td>\n",
              "      <td>3.287561</td>\n",
              "      <td>2.610160</td>\n",
              "      <td>0.544846</td>\n",
              "      <td>2.840118</td>\n",
              "      <td>1.518086</td>\n",
              "    </tr>\n",
              "    <tr>\n",
              "      <th>std</th>\n",
              "      <td>0.497400</td>\n",
              "      <td>0.491594</td>\n",
              "      <td>16.581537</td>\n",
              "      <td>0.481650</td>\n",
              "      <td>2.346652</td>\n",
              "      <td>3.390676</td>\n",
              "      <td>0.738487</td>\n",
              "      <td>1.535051</td>\n",
              "      <td>1.146645</td>\n",
              "    </tr>\n",
              "    <tr>\n",
              "      <th>min</th>\n",
              "      <td>0.000000</td>\n",
              "      <td>0.000000</td>\n",
              "      <td>18.000000</td>\n",
              "      <td>0.000000</td>\n",
              "      <td>0.000000</td>\n",
              "      <td>0.000000</td>\n",
              "      <td>0.000000</td>\n",
              "      <td>1.000000</td>\n",
              "      <td>0.000000</td>\n",
              "    </tr>\n",
              "    <tr>\n",
              "      <th>25%</th>\n",
              "      <td>0.000000</td>\n",
              "      <td>0.000000</td>\n",
              "      <td>31.000000</td>\n",
              "      <td>0.000000</td>\n",
              "      <td>2.000000</td>\n",
              "      <td>0.000000</td>\n",
              "      <td>0.000000</td>\n",
              "      <td>2.000000</td>\n",
              "      <td>0.000000</td>\n",
              "    </tr>\n",
              "    <tr>\n",
              "      <th>50%</th>\n",
              "      <td>0.000000</td>\n",
              "      <td>1.000000</td>\n",
              "      <td>41.000000</td>\n",
              "      <td>1.000000</td>\n",
              "      <td>3.000000</td>\n",
              "      <td>1.000000</td>\n",
              "      <td>0.000000</td>\n",
              "      <td>2.000000</td>\n",
              "      <td>2.000000</td>\n",
              "    </tr>\n",
              "    <tr>\n",
              "      <th>75%</th>\n",
              "      <td>1.000000</td>\n",
              "      <td>1.000000</td>\n",
              "      <td>53.000000</td>\n",
              "      <td>1.000000</td>\n",
              "      <td>5.000000</td>\n",
              "      <td>4.000000</td>\n",
              "      <td>1.000000</td>\n",
              "      <td>4.000000</td>\n",
              "      <td>3.000000</td>\n",
              "    </tr>\n",
              "    <tr>\n",
              "      <th>max</th>\n",
              "      <td>1.000000</td>\n",
              "      <td>1.000000</td>\n",
              "      <td>89.000000</td>\n",
              "      <td>1.000000</td>\n",
              "      <td>8.000000</td>\n",
              "      <td>14.000000</td>\n",
              "      <td>2.000000</td>\n",
              "      <td>9.000000</td>\n",
              "      <td>3.000000</td>\n",
              "    </tr>\n",
              "  </tbody>\n",
              "</table>\n",
              "</div>\n",
              "      <button class=\"colab-df-convert\" onclick=\"convertToInteractive('df-81efcd1e-5776-4a48-8a69-d48cb74bb66b')\"\n",
              "              title=\"Convert this dataframe to an interactive table.\"\n",
              "              style=\"display:none;\">\n",
              "        \n",
              "  <svg xmlns=\"http://www.w3.org/2000/svg\" height=\"24px\"viewBox=\"0 0 24 24\"\n",
              "       width=\"24px\">\n",
              "    <path d=\"M0 0h24v24H0V0z\" fill=\"none\"/>\n",
              "    <path d=\"M18.56 5.44l.94 2.06.94-2.06 2.06-.94-2.06-.94-.94-2.06-.94 2.06-2.06.94zm-11 1L8.5 8.5l.94-2.06 2.06-.94-2.06-.94L8.5 2.5l-.94 2.06-2.06.94zm10 10l.94 2.06.94-2.06 2.06-.94-2.06-.94-.94-2.06-.94 2.06-2.06.94z\"/><path d=\"M17.41 7.96l-1.37-1.37c-.4-.4-.92-.59-1.43-.59-.52 0-1.04.2-1.43.59L10.3 9.45l-7.72 7.72c-.78.78-.78 2.05 0 2.83L4 21.41c.39.39.9.59 1.41.59.51 0 1.02-.2 1.41-.59l7.78-7.78 2.81-2.81c.8-.78.8-2.07 0-2.86zM5.41 20L4 18.59l7.72-7.72 1.47 1.35L5.41 20z\"/>\n",
              "  </svg>\n",
              "      </button>\n",
              "      \n",
              "  <style>\n",
              "    .colab-df-container {\n",
              "      display:flex;\n",
              "      flex-wrap:wrap;\n",
              "      gap: 12px;\n",
              "    }\n",
              "\n",
              "    .colab-df-convert {\n",
              "      background-color: #E8F0FE;\n",
              "      border: none;\n",
              "      border-radius: 50%;\n",
              "      cursor: pointer;\n",
              "      display: none;\n",
              "      fill: #1967D2;\n",
              "      height: 32px;\n",
              "      padding: 0 0 0 0;\n",
              "      width: 32px;\n",
              "    }\n",
              "\n",
              "    .colab-df-convert:hover {\n",
              "      background-color: #E2EBFA;\n",
              "      box-shadow: 0px 1px 2px rgba(60, 64, 67, 0.3), 0px 1px 3px 1px rgba(60, 64, 67, 0.15);\n",
              "      fill: #174EA6;\n",
              "    }\n",
              "\n",
              "    [theme=dark] .colab-df-convert {\n",
              "      background-color: #3B4455;\n",
              "      fill: #D2E3FC;\n",
              "    }\n",
              "\n",
              "    [theme=dark] .colab-df-convert:hover {\n",
              "      background-color: #434B5C;\n",
              "      box-shadow: 0px 1px 3px 1px rgba(0, 0, 0, 0.15);\n",
              "      filter: drop-shadow(0px 1px 2px rgba(0, 0, 0, 0.3));\n",
              "      fill: #FFFFFF;\n",
              "    }\n",
              "  </style>\n",
              "\n",
              "      <script>\n",
              "        const buttonEl =\n",
              "          document.querySelector('#df-81efcd1e-5776-4a48-8a69-d48cb74bb66b button.colab-df-convert');\n",
              "        buttonEl.style.display =\n",
              "          google.colab.kernel.accessAllowed ? 'block' : 'none';\n",
              "\n",
              "        async function convertToInteractive(key) {\n",
              "          const element = document.querySelector('#df-81efcd1e-5776-4a48-8a69-d48cb74bb66b');\n",
              "          const dataTable =\n",
              "            await google.colab.kernel.invokeFunction('convertToInteractive',\n",
              "                                                     [key], {});\n",
              "          if (!dataTable) return;\n",
              "\n",
              "          const docLinkHtml = 'Like what you see? Visit the ' +\n",
              "            '<a target=\"_blank\" href=https://colab.research.google.com/notebooks/data_table.ipynb>data table notebook</a>'\n",
              "            + ' to learn more about interactive tables.';\n",
              "          element.innerHTML = '';\n",
              "          dataTable['output_type'] = 'display_data';\n",
              "          await google.colab.output.renderOutput(dataTable, element);\n",
              "          const docLink = document.createElement('div');\n",
              "          docLink.innerHTML = docLinkHtml;\n",
              "          element.appendChild(docLink);\n",
              "        }\n",
              "      </script>\n",
              "    </div>\n",
              "  </div>\n",
              "  "
            ]
          },
          "metadata": {},
          "execution_count": 108
        }
      ]
    },
    {
      "cell_type": "code",
      "source": [
        "\n",
        "data['Segmentation'].unique()"
      ],
      "metadata": {
        "colab": {
          "base_uri": "https://localhost:8080/"
        },
        "id": "Fpeu7sv4tDtx",
        "outputId": "3ee928b0-1c50-4627-9814-c8e9b05a6691"
      },
      "execution_count": null,
      "outputs": [
        {
          "output_type": "execute_result",
          "data": {
            "text/plain": [
              "array([3, 1, 2, 0])"
            ]
          },
          "metadata": {},
          "execution_count": 109
        }
      ]
    },
    {
      "cell_type": "code",
      "source": [
        "X=data[['Gender','Ever_Married','Age','Graduated','Profession','Work_Experience','Spending_Score','Family_Size']].values\n",
        " "
      ],
      "metadata": {
        "id": "DSRu325gtFxV"
      },
      "execution_count": null,
      "outputs": []
    },
    {
      "cell_type": "code",
      "source": [
        "y1 = data[['Segmentation']].values"
      ],
      "metadata": {
        "id": "FmLEI98it2Gs"
      },
      "execution_count": null,
      "outputs": []
    },
    {
      "cell_type": "code",
      "source": [
        "one_hot_enc = OneHotEncoder()\n",
        "one_hot_enc.fit(y1)"
      ],
      "metadata": {
        "colab": {
          "base_uri": "https://localhost:8080/",
          "height": 74
        },
        "id": "PH9UAfOayAMd",
        "outputId": "6d1231cb-473b-4459-c2d8-97a45a74928e"
      },
      "execution_count": null,
      "outputs": [
        {
          "output_type": "execute_result",
          "data": {
            "text/plain": [
              "OneHotEncoder()"
            ],
            "text/html": [
              "<style>#sk-container-id-5 {color: black;background-color: white;}#sk-container-id-5 pre{padding: 0;}#sk-container-id-5 div.sk-toggleable {background-color: white;}#sk-container-id-5 label.sk-toggleable__label {cursor: pointer;display: block;width: 100%;margin-bottom: 0;padding: 0.3em;box-sizing: border-box;text-align: center;}#sk-container-id-5 label.sk-toggleable__label-arrow:before {content: \"▸\";float: left;margin-right: 0.25em;color: #696969;}#sk-container-id-5 label.sk-toggleable__label-arrow:hover:before {color: black;}#sk-container-id-5 div.sk-estimator:hover label.sk-toggleable__label-arrow:before {color: black;}#sk-container-id-5 div.sk-toggleable__content {max-height: 0;max-width: 0;overflow: hidden;text-align: left;background-color: #f0f8ff;}#sk-container-id-5 div.sk-toggleable__content pre {margin: 0.2em;color: black;border-radius: 0.25em;background-color: #f0f8ff;}#sk-container-id-5 input.sk-toggleable__control:checked~div.sk-toggleable__content {max-height: 200px;max-width: 100%;overflow: auto;}#sk-container-id-5 input.sk-toggleable__control:checked~label.sk-toggleable__label-arrow:before {content: \"▾\";}#sk-container-id-5 div.sk-estimator input.sk-toggleable__control:checked~label.sk-toggleable__label {background-color: #d4ebff;}#sk-container-id-5 div.sk-label input.sk-toggleable__control:checked~label.sk-toggleable__label {background-color: #d4ebff;}#sk-container-id-5 input.sk-hidden--visually {border: 0;clip: rect(1px 1px 1px 1px);clip: rect(1px, 1px, 1px, 1px);height: 1px;margin: -1px;overflow: hidden;padding: 0;position: absolute;width: 1px;}#sk-container-id-5 div.sk-estimator {font-family: monospace;background-color: #f0f8ff;border: 1px dotted black;border-radius: 0.25em;box-sizing: border-box;margin-bottom: 0.5em;}#sk-container-id-5 div.sk-estimator:hover {background-color: #d4ebff;}#sk-container-id-5 div.sk-parallel-item::after {content: \"\";width: 100%;border-bottom: 1px solid gray;flex-grow: 1;}#sk-container-id-5 div.sk-label:hover label.sk-toggleable__label {background-color: #d4ebff;}#sk-container-id-5 div.sk-serial::before {content: \"\";position: absolute;border-left: 1px solid gray;box-sizing: border-box;top: 0;bottom: 0;left: 50%;z-index: 0;}#sk-container-id-5 div.sk-serial {display: flex;flex-direction: column;align-items: center;background-color: white;padding-right: 0.2em;padding-left: 0.2em;position: relative;}#sk-container-id-5 div.sk-item {position: relative;z-index: 1;}#sk-container-id-5 div.sk-parallel {display: flex;align-items: stretch;justify-content: center;background-color: white;position: relative;}#sk-container-id-5 div.sk-item::before, #sk-container-id-5 div.sk-parallel-item::before {content: \"\";position: absolute;border-left: 1px solid gray;box-sizing: border-box;top: 0;bottom: 0;left: 50%;z-index: -1;}#sk-container-id-5 div.sk-parallel-item {display: flex;flex-direction: column;z-index: 1;position: relative;background-color: white;}#sk-container-id-5 div.sk-parallel-item:first-child::after {align-self: flex-end;width: 50%;}#sk-container-id-5 div.sk-parallel-item:last-child::after {align-self: flex-start;width: 50%;}#sk-container-id-5 div.sk-parallel-item:only-child::after {width: 0;}#sk-container-id-5 div.sk-dashed-wrapped {border: 1px dashed gray;margin: 0 0.4em 0.5em 0.4em;box-sizing: border-box;padding-bottom: 0.4em;background-color: white;}#sk-container-id-5 div.sk-label label {font-family: monospace;font-weight: bold;display: inline-block;line-height: 1.2em;}#sk-container-id-5 div.sk-label-container {text-align: center;}#sk-container-id-5 div.sk-container {/* jupyter's `normalize.less` sets `[hidden] { display: none; }` but bootstrap.min.css set `[hidden] { display: none !important; }` so we also need the `!important` here to be able to override the default hidden behavior on the sphinx rendered scikit-learn.org. See: https://github.com/scikit-learn/scikit-learn/issues/21755 */display: inline-block !important;position: relative;}#sk-container-id-5 div.sk-text-repr-fallback {display: none;}</style><div id=\"sk-container-id-5\" class=\"sk-top-container\"><div class=\"sk-text-repr-fallback\"><pre>OneHotEncoder()</pre><b>In a Jupyter environment, please rerun this cell to show the HTML representation or trust the notebook. <br />On GitHub, the HTML representation is unable to render, please try loading this page with nbviewer.org.</b></div><div class=\"sk-container\" hidden><div class=\"sk-item\"><div class=\"sk-estimator sk-toggleable\"><input class=\"sk-toggleable__control sk-hidden--visually\" id=\"sk-estimator-id-5\" type=\"checkbox\" checked><label for=\"sk-estimator-id-5\" class=\"sk-toggleable__label sk-toggleable__label-arrow\">OneHotEncoder</label><div class=\"sk-toggleable__content\"><pre>OneHotEncoder()</pre></div></div></div></div></div>"
            ]
          },
          "metadata": {},
          "execution_count": 112
        }
      ]
    },
    {
      "cell_type": "code",
      "source": [
        "y1.shape"
      ],
      "metadata": {
        "colab": {
          "base_uri": "https://localhost:8080/"
        },
        "id": "O6VgSihY1rBs",
        "outputId": "ccc55fdc-8b57-4ad0-8c1a-dad8b43c7f4e"
      },
      "execution_count": null,
      "outputs": [
        {
          "output_type": "execute_result",
          "data": {
            "text/plain": [
              "(8819, 1)"
            ]
          },
          "metadata": {},
          "execution_count": 113
        }
      ]
    },
    {
      "cell_type": "code",
      "source": [
        "y = one_hot_enc.transform(y1).toarray()"
      ],
      "metadata": {
        "id": "xo5oql0vxtOK"
      },
      "execution_count": null,
      "outputs": []
    },
    {
      "cell_type": "code",
      "source": [
        "y.shape"
      ],
      "metadata": {
        "id": "_y-gr-fn1wri",
        "outputId": "ef0c9b9d-f4a3-4dbc-f194-49b34d5bc0a8",
        "colab": {
          "base_uri": "https://localhost:8080/"
        }
      },
      "execution_count": null,
      "outputs": [
        {
          "output_type": "execute_result",
          "data": {
            "text/plain": [
              "(8819, 4)"
            ]
          },
          "metadata": {},
          "execution_count": 115
        }
      ]
    },
    {
      "cell_type": "code",
      "source": [
        "y1[0]"
      ],
      "metadata": {
        "id": "ZrpeA1rY1xNA",
        "outputId": "332f5dd7-1f8f-4bd9-c2e8-357a49aa22c5",
        "colab": {
          "base_uri": "https://localhost:8080/"
        }
      },
      "execution_count": null,
      "outputs": [
        {
          "output_type": "execute_result",
          "data": {
            "text/plain": [
              "array([3])"
            ]
          },
          "metadata": {},
          "execution_count": 116
        }
      ]
    },
    {
      "cell_type": "code",
      "source": [],
      "metadata": {
        "id": "9LWQwCnB11e7"
      },
      "execution_count": null,
      "outputs": []
    },
    {
      "cell_type": "code",
      "source": [
        "X_train,X_test,y_train,y_test=train_test_split(X,y,\n",
        "                                               test_size=0.3,\n",
        "                                               random_state=50)\n",
        "     "
      ],
      "metadata": {
        "id": "SL-cMKnOx3T8"
      },
      "execution_count": null,
      "outputs": []
    },
    {
      "cell_type": "code",
      "source": [
        "scaler_age = MinMaxScaler()\n",
        "scaler_age.fit(X_train[:,2].reshape(-1,1))"
      ],
      "metadata": {
        "colab": {
          "base_uri": "https://localhost:8080/",
          "height": 74
        },
        "id": "N944XOFvyC18",
        "outputId": "d793ec2a-dcf7-4a75-d1da-d608f152ffd2"
      },
      "execution_count": null,
      "outputs": [
        {
          "output_type": "execute_result",
          "data": {
            "text/plain": [
              "MinMaxScaler()"
            ],
            "text/html": [
              "<style>#sk-container-id-6 {color: black;background-color: white;}#sk-container-id-6 pre{padding: 0;}#sk-container-id-6 div.sk-toggleable {background-color: white;}#sk-container-id-6 label.sk-toggleable__label {cursor: pointer;display: block;width: 100%;margin-bottom: 0;padding: 0.3em;box-sizing: border-box;text-align: center;}#sk-container-id-6 label.sk-toggleable__label-arrow:before {content: \"▸\";float: left;margin-right: 0.25em;color: #696969;}#sk-container-id-6 label.sk-toggleable__label-arrow:hover:before {color: black;}#sk-container-id-6 div.sk-estimator:hover label.sk-toggleable__label-arrow:before {color: black;}#sk-container-id-6 div.sk-toggleable__content {max-height: 0;max-width: 0;overflow: hidden;text-align: left;background-color: #f0f8ff;}#sk-container-id-6 div.sk-toggleable__content pre {margin: 0.2em;color: black;border-radius: 0.25em;background-color: #f0f8ff;}#sk-container-id-6 input.sk-toggleable__control:checked~div.sk-toggleable__content {max-height: 200px;max-width: 100%;overflow: auto;}#sk-container-id-6 input.sk-toggleable__control:checked~label.sk-toggleable__label-arrow:before {content: \"▾\";}#sk-container-id-6 div.sk-estimator input.sk-toggleable__control:checked~label.sk-toggleable__label {background-color: #d4ebff;}#sk-container-id-6 div.sk-label input.sk-toggleable__control:checked~label.sk-toggleable__label {background-color: #d4ebff;}#sk-container-id-6 input.sk-hidden--visually {border: 0;clip: rect(1px 1px 1px 1px);clip: rect(1px, 1px, 1px, 1px);height: 1px;margin: -1px;overflow: hidden;padding: 0;position: absolute;width: 1px;}#sk-container-id-6 div.sk-estimator {font-family: monospace;background-color: #f0f8ff;border: 1px dotted black;border-radius: 0.25em;box-sizing: border-box;margin-bottom: 0.5em;}#sk-container-id-6 div.sk-estimator:hover {background-color: #d4ebff;}#sk-container-id-6 div.sk-parallel-item::after {content: \"\";width: 100%;border-bottom: 1px solid gray;flex-grow: 1;}#sk-container-id-6 div.sk-label:hover label.sk-toggleable__label {background-color: #d4ebff;}#sk-container-id-6 div.sk-serial::before {content: \"\";position: absolute;border-left: 1px solid gray;box-sizing: border-box;top: 0;bottom: 0;left: 50%;z-index: 0;}#sk-container-id-6 div.sk-serial {display: flex;flex-direction: column;align-items: center;background-color: white;padding-right: 0.2em;padding-left: 0.2em;position: relative;}#sk-container-id-6 div.sk-item {position: relative;z-index: 1;}#sk-container-id-6 div.sk-parallel {display: flex;align-items: stretch;justify-content: center;background-color: white;position: relative;}#sk-container-id-6 div.sk-item::before, #sk-container-id-6 div.sk-parallel-item::before {content: \"\";position: absolute;border-left: 1px solid gray;box-sizing: border-box;top: 0;bottom: 0;left: 50%;z-index: -1;}#sk-container-id-6 div.sk-parallel-item {display: flex;flex-direction: column;z-index: 1;position: relative;background-color: white;}#sk-container-id-6 div.sk-parallel-item:first-child::after {align-self: flex-end;width: 50%;}#sk-container-id-6 div.sk-parallel-item:last-child::after {align-self: flex-start;width: 50%;}#sk-container-id-6 div.sk-parallel-item:only-child::after {width: 0;}#sk-container-id-6 div.sk-dashed-wrapped {border: 1px dashed gray;margin: 0 0.4em 0.5em 0.4em;box-sizing: border-box;padding-bottom: 0.4em;background-color: white;}#sk-container-id-6 div.sk-label label {font-family: monospace;font-weight: bold;display: inline-block;line-height: 1.2em;}#sk-container-id-6 div.sk-label-container {text-align: center;}#sk-container-id-6 div.sk-container {/* jupyter's `normalize.less` sets `[hidden] { display: none; }` but bootstrap.min.css set `[hidden] { display: none !important; }` so we also need the `!important` here to be able to override the default hidden behavior on the sphinx rendered scikit-learn.org. See: https://github.com/scikit-learn/scikit-learn/issues/21755 */display: inline-block !important;position: relative;}#sk-container-id-6 div.sk-text-repr-fallback {display: none;}</style><div id=\"sk-container-id-6\" class=\"sk-top-container\"><div class=\"sk-text-repr-fallback\"><pre>MinMaxScaler()</pre><b>In a Jupyter environment, please rerun this cell to show the HTML representation or trust the notebook. <br />On GitHub, the HTML representation is unable to render, please try loading this page with nbviewer.org.</b></div><div class=\"sk-container\" hidden><div class=\"sk-item\"><div class=\"sk-estimator sk-toggleable\"><input class=\"sk-toggleable__control sk-hidden--visually\" id=\"sk-estimator-id-6\" type=\"checkbox\" checked><label for=\"sk-estimator-id-6\" class=\"sk-toggleable__label sk-toggleable__label-arrow\">MinMaxScaler</label><div class=\"sk-toggleable__content\"><pre>MinMaxScaler()</pre></div></div></div></div></div>"
            ]
          },
          "metadata": {},
          "execution_count": 118
        }
      ]
    },
    {
      "cell_type": "code",
      "source": [
        "X_train[0]"
      ],
      "metadata": {
        "colab": {
          "base_uri": "https://localhost:8080/"
        },
        "id": "9D0VQOFR027j",
        "outputId": "2af7b22d-52d3-456e-d3e2-e834d82c34cc"
      },
      "execution_count": null,
      "outputs": [
        {
          "output_type": "execute_result",
          "data": {
            "text/plain": [
              "array([ 0.,  0., 30.,  1.,  4.,  3.,  0.,  2.])"
            ]
          },
          "metadata": {},
          "execution_count": 119
        }
      ]
    },
    {
      "cell_type": "code",
      "source": [
        "X_train.shape"
      ],
      "metadata": {
        "colab": {
          "base_uri": "https://localhost:8080/"
        },
        "id": "teb6UPKS03P0",
        "outputId": "c61acce9-10c9-4742-d684-3a972cb3295a"
      },
      "execution_count": null,
      "outputs": [
        {
          "output_type": "execute_result",
          "data": {
            "text/plain": [
              "(6173, 8)"
            ]
          },
          "metadata": {},
          "execution_count": 120
        }
      ]
    },
    {
      "cell_type": "code",
      "source": [
        "X_train_scaled = np.copy(X_train)\n",
        "X_test_scaled = np.copy(X_test)"
      ],
      "metadata": {
        "id": "reoeU9z2yJoM"
      },
      "execution_count": null,
      "outputs": []
    },
    {
      "cell_type": "code",
      "source": [
        "X_train_scaled[:,2] = scaler_age.transform(X_train[:,2].reshape(-1,1)).reshape(-1)\n",
        "X_test_scaled[:,2] = scaler_age.transform(X_test[:,2].reshape(-1,1)).reshape(-1)"
      ],
      "metadata": {
        "id": "jWChdhY6yLaU"
      },
      "execution_count": null,
      "outputs": []
    },
    {
      "cell_type": "code",
      "source": [
        "X_train[0]"
      ],
      "metadata": {
        "colab": {
          "base_uri": "https://localhost:8080/"
        },
        "id": "rJgHp7410-vP",
        "outputId": "ac28f49a-d290-4833-d279-a6f2f85ce813"
      },
      "execution_count": null,
      "outputs": [
        {
          "output_type": "execute_result",
          "data": {
            "text/plain": [
              "array([ 0.,  0., 30.,  1.,  4.,  3.,  0.,  2.])"
            ]
          },
          "metadata": {},
          "execution_count": 123
        }
      ]
    },
    {
      "cell_type": "code",
      "source": [
        "X_train.shape"
      ],
      "metadata": {
        "colab": {
          "base_uri": "https://localhost:8080/"
        },
        "id": "fH8ZcQNX1AIG",
        "outputId": "32657f74-36a3-43e5-d6c2-08d167995d0e"
      },
      "execution_count": null,
      "outputs": [
        {
          "output_type": "execute_result",
          "data": {
            "text/plain": [
              "(6173, 8)"
            ]
          },
          "metadata": {},
          "execution_count": 124
        }
      ]
    },
    {
      "cell_type": "code",
      "source": [
        "ai_brain = tf.keras.Sequential([tf.keras.layers.Input(shape=(8,)),\n",
        "                           tf.keras.layers.Dense(256,activation=\"relu\"),\n",
        "                           tf.keras.layers.Dense(128,activation=\"relu\"),\n",
        "                           tf.keras.layers.Dense(64,activation=\"relu\"),\n",
        "                           tf.keras.layers.Dense(32,activation=\"relu\"),\n",
        "                           tf.keras.layers.Dense(16,activation=\"relu\"),\n",
        "                           tf.keras.layers.Dense(8,activation=\"relu\"),\n",
        "                           tf.keras.layers.Dense(4,activation=\"softmax\")])"
      ],
      "metadata": {
        "id": "OSfc9M9fyNcP"
      },
      "execution_count": null,
      "outputs": []
    },
    {
      "cell_type": "code",
      "source": [
        "ai_brain.compile(optimizer='adagrad',\n",
        "                 loss='categorical_crossentropy',\n",
        "                 metrics=['accuracy'])"
      ],
      "metadata": {
        "id": "itWU4Rz2yQCd"
      },
      "execution_count": null,
      "outputs": []
    },
    {
      "cell_type": "code",
      "source": [
        "early_stop = EarlyStopping(monitor='val_loss', patience=2)\n",
        "   "
      ],
      "metadata": {
        "id": "7o4iTp0KyTan"
      },
      "execution_count": null,
      "outputs": []
    },
    {
      "cell_type": "code",
      "source": [
        "ai_brain.fit(x=X_train_scaled,y=y_train,\n",
        "             epochs=200,batch_size=32,\n",
        "             validation_data=(X_test_scaled,y_test),\n",
        "             #callbacks=[early_stop]\n",
        "             )"
      ],
      "metadata": {
        "colab": {
          "base_uri": "https://localhost:8080/"
        },
        "id": "SCXLFh67yXBs",
        "outputId": "c0f92669-bb7e-459d-859f-061996d51211"
      },
      "execution_count": null,
      "outputs": [
        {
          "output_type": "stream",
          "name": "stdout",
          "text": [
            "Epoch 1/200\n",
            "193/193 [==============================] - 2s 5ms/step - loss: 1.3849 - accuracy: 0.3052 - val_loss: 1.3833 - val_accuracy: 0.3405\n",
            "Epoch 2/200\n",
            "193/193 [==============================] - 1s 5ms/step - loss: 1.3805 - accuracy: 0.3460 - val_loss: 1.3778 - val_accuracy: 0.3432\n",
            "Epoch 3/200\n",
            "193/193 [==============================] - 1s 7ms/step - loss: 1.3738 - accuracy: 0.3554 - val_loss: 1.3711 - val_accuracy: 0.3541\n",
            "Epoch 4/200\n",
            "193/193 [==============================] - 1s 7ms/step - loss: 1.3665 - accuracy: 0.3634 - val_loss: 1.3649 - val_accuracy: 0.3696\n",
            "Epoch 5/200\n",
            "193/193 [==============================] - 1s 4ms/step - loss: 1.3588 - accuracy: 0.3792 - val_loss: 1.3583 - val_accuracy: 0.3757\n",
            "Epoch 6/200\n",
            "193/193 [==============================] - 1s 4ms/step - loss: 1.3513 - accuracy: 0.3857 - val_loss: 1.3523 - val_accuracy: 0.3881\n",
            "Epoch 7/200\n",
            "193/193 [==============================] - 1s 4ms/step - loss: 1.3440 - accuracy: 0.3953 - val_loss: 1.3455 - val_accuracy: 0.3847\n",
            "Epoch 8/200\n",
            "193/193 [==============================] - 1s 3ms/step - loss: 1.3359 - accuracy: 0.3980 - val_loss: 1.3387 - val_accuracy: 0.3885\n",
            "Epoch 9/200\n",
            "193/193 [==============================] - 1s 4ms/step - loss: 1.3277 - accuracy: 0.4005 - val_loss: 1.3311 - val_accuracy: 0.4044\n",
            "Epoch 10/200\n",
            "193/193 [==============================] - 1s 4ms/step - loss: 1.3179 - accuracy: 0.4092 - val_loss: 1.3228 - val_accuracy: 0.4044\n",
            "Epoch 11/200\n",
            "193/193 [==============================] - 1s 4ms/step - loss: 1.3075 - accuracy: 0.4124 - val_loss: 1.3136 - val_accuracy: 0.4002\n",
            "Epoch 12/200\n",
            "193/193 [==============================] - 1s 4ms/step - loss: 1.2978 - accuracy: 0.4170 - val_loss: 1.3056 - val_accuracy: 0.4070\n",
            "Epoch 13/200\n",
            "193/193 [==============================] - 1s 4ms/step - loss: 1.2894 - accuracy: 0.4196 - val_loss: 1.2998 - val_accuracy: 0.4184\n",
            "Epoch 14/200\n",
            "193/193 [==============================] - 1s 4ms/step - loss: 1.2822 - accuracy: 0.4218 - val_loss: 1.2937 - val_accuracy: 0.4108\n",
            "Epoch 15/200\n",
            "193/193 [==============================] - 1s 4ms/step - loss: 1.2761 - accuracy: 0.4228 - val_loss: 1.2887 - val_accuracy: 0.4199\n",
            "Epoch 16/200\n",
            "193/193 [==============================] - 1s 4ms/step - loss: 1.2706 - accuracy: 0.4246 - val_loss: 1.2843 - val_accuracy: 0.4225\n",
            "Epoch 17/200\n",
            "193/193 [==============================] - 1s 4ms/step - loss: 1.2660 - accuracy: 0.4280 - val_loss: 1.2806 - val_accuracy: 0.4244\n",
            "Epoch 18/200\n",
            "193/193 [==============================] - 1s 6ms/step - loss: 1.2621 - accuracy: 0.4314 - val_loss: 1.2776 - val_accuracy: 0.4244\n",
            "Epoch 19/200\n",
            "193/193 [==============================] - 1s 6ms/step - loss: 1.2588 - accuracy: 0.4317 - val_loss: 1.2749 - val_accuracy: 0.4286\n",
            "Epoch 20/200\n",
            "193/193 [==============================] - 1s 4ms/step - loss: 1.2563 - accuracy: 0.4307 - val_loss: 1.2725 - val_accuracy: 0.4263\n",
            "Epoch 21/200\n",
            "193/193 [==============================] - 1s 4ms/step - loss: 1.2538 - accuracy: 0.4314 - val_loss: 1.2702 - val_accuracy: 0.4271\n",
            "Epoch 22/200\n",
            "193/193 [==============================] - 1s 4ms/step - loss: 1.2518 - accuracy: 0.4327 - val_loss: 1.2684 - val_accuracy: 0.4278\n",
            "Epoch 23/200\n",
            "193/193 [==============================] - 1s 4ms/step - loss: 1.2500 - accuracy: 0.4333 - val_loss: 1.2671 - val_accuracy: 0.4274\n",
            "Epoch 24/200\n",
            "193/193 [==============================] - 1s 4ms/step - loss: 1.2482 - accuracy: 0.4361 - val_loss: 1.2654 - val_accuracy: 0.4267\n",
            "Epoch 25/200\n",
            "193/193 [==============================] - 1s 4ms/step - loss: 1.2467 - accuracy: 0.4367 - val_loss: 1.2642 - val_accuracy: 0.4252\n",
            "Epoch 26/200\n",
            "193/193 [==============================] - 1s 4ms/step - loss: 1.2453 - accuracy: 0.4341 - val_loss: 1.2627 - val_accuracy: 0.4286\n",
            "Epoch 27/200\n",
            "193/193 [==============================] - 1s 4ms/step - loss: 1.2436 - accuracy: 0.4385 - val_loss: 1.2628 - val_accuracy: 0.4297\n",
            "Epoch 28/200\n",
            "193/193 [==============================] - 1s 4ms/step - loss: 1.2428 - accuracy: 0.4401 - val_loss: 1.2607 - val_accuracy: 0.4297\n",
            "Epoch 29/200\n",
            "193/193 [==============================] - 1s 4ms/step - loss: 1.2414 - accuracy: 0.4392 - val_loss: 1.2603 - val_accuracy: 0.4278\n",
            "Epoch 30/200\n",
            "193/193 [==============================] - 1s 4ms/step - loss: 1.2402 - accuracy: 0.4392 - val_loss: 1.2585 - val_accuracy: 0.4297\n",
            "Epoch 31/200\n",
            "193/193 [==============================] - 1s 4ms/step - loss: 1.2394 - accuracy: 0.4397 - val_loss: 1.2579 - val_accuracy: 0.4316\n",
            "Epoch 32/200\n",
            "193/193 [==============================] - 1s 5ms/step - loss: 1.2381 - accuracy: 0.4424 - val_loss: 1.2569 - val_accuracy: 0.4293\n",
            "Epoch 33/200\n",
            "193/193 [==============================] - 1s 6ms/step - loss: 1.2371 - accuracy: 0.4460 - val_loss: 1.2558 - val_accuracy: 0.4297\n",
            "Epoch 34/200\n",
            "193/193 [==============================] - 1s 6ms/step - loss: 1.2363 - accuracy: 0.4414 - val_loss: 1.2548 - val_accuracy: 0.4342\n",
            "Epoch 35/200\n",
            "193/193 [==============================] - 1s 6ms/step - loss: 1.2353 - accuracy: 0.4442 - val_loss: 1.2539 - val_accuracy: 0.4346\n",
            "Epoch 36/200\n",
            "193/193 [==============================] - 1s 4ms/step - loss: 1.2345 - accuracy: 0.4450 - val_loss: 1.2533 - val_accuracy: 0.4339\n",
            "Epoch 37/200\n",
            "193/193 [==============================] - 1s 4ms/step - loss: 1.2338 - accuracy: 0.4471 - val_loss: 1.2525 - val_accuracy: 0.4361\n",
            "Epoch 38/200\n",
            "193/193 [==============================] - 1s 4ms/step - loss: 1.2331 - accuracy: 0.4453 - val_loss: 1.2518 - val_accuracy: 0.4365\n",
            "Epoch 39/200\n",
            "193/193 [==============================] - 1s 4ms/step - loss: 1.2323 - accuracy: 0.4474 - val_loss: 1.2513 - val_accuracy: 0.4354\n",
            "Epoch 40/200\n",
            "193/193 [==============================] - 1s 4ms/step - loss: 1.2315 - accuracy: 0.4474 - val_loss: 1.2506 - val_accuracy: 0.4358\n",
            "Epoch 41/200\n",
            "193/193 [==============================] - 1s 4ms/step - loss: 1.2308 - accuracy: 0.4465 - val_loss: 1.2500 - val_accuracy: 0.4376\n",
            "Epoch 42/200\n",
            "193/193 [==============================] - 1s 5ms/step - loss: 1.2301 - accuracy: 0.4494 - val_loss: 1.2506 - val_accuracy: 0.4361\n",
            "Epoch 43/200\n",
            "193/193 [==============================] - 1s 4ms/step - loss: 1.2294 - accuracy: 0.4494 - val_loss: 1.2487 - val_accuracy: 0.4384\n",
            "Epoch 44/200\n",
            "193/193 [==============================] - 1s 4ms/step - loss: 1.2288 - accuracy: 0.4503 - val_loss: 1.2490 - val_accuracy: 0.4369\n",
            "Epoch 45/200\n",
            "193/193 [==============================] - 1s 4ms/step - loss: 1.2284 - accuracy: 0.4502 - val_loss: 1.2479 - val_accuracy: 0.4392\n",
            "Epoch 46/200\n",
            "193/193 [==============================] - 1s 4ms/step - loss: 1.2277 - accuracy: 0.4505 - val_loss: 1.2472 - val_accuracy: 0.4376\n",
            "Epoch 47/200\n",
            "193/193 [==============================] - 1s 6ms/step - loss: 1.2271 - accuracy: 0.4507 - val_loss: 1.2470 - val_accuracy: 0.4369\n",
            "Epoch 48/200\n",
            "193/193 [==============================] - 1s 7ms/step - loss: 1.2266 - accuracy: 0.4521 - val_loss: 1.2461 - val_accuracy: 0.4395\n",
            "Epoch 49/200\n",
            "193/193 [==============================] - 1s 6ms/step - loss: 1.2259 - accuracy: 0.4554 - val_loss: 1.2461 - val_accuracy: 0.4380\n",
            "Epoch 50/200\n",
            "193/193 [==============================] - 1s 4ms/step - loss: 1.2250 - accuracy: 0.4523 - val_loss: 1.2453 - val_accuracy: 0.4380\n",
            "Epoch 51/200\n",
            "193/193 [==============================] - 1s 4ms/step - loss: 1.2249 - accuracy: 0.4531 - val_loss: 1.2450 - val_accuracy: 0.4395\n",
            "Epoch 52/200\n",
            "193/193 [==============================] - 1s 5ms/step - loss: 1.2244 - accuracy: 0.4542 - val_loss: 1.2444 - val_accuracy: 0.4380\n",
            "Epoch 53/200\n",
            "193/193 [==============================] - 1s 5ms/step - loss: 1.2236 - accuracy: 0.4578 - val_loss: 1.2447 - val_accuracy: 0.4392\n",
            "Epoch 54/200\n",
            "193/193 [==============================] - 1s 4ms/step - loss: 1.2233 - accuracy: 0.4562 - val_loss: 1.2436 - val_accuracy: 0.4410\n",
            "Epoch 55/200\n",
            "193/193 [==============================] - 1s 4ms/step - loss: 1.2228 - accuracy: 0.4589 - val_loss: 1.2431 - val_accuracy: 0.4414\n",
            "Epoch 56/200\n",
            "193/193 [==============================] - 1s 4ms/step - loss: 1.2222 - accuracy: 0.4575 - val_loss: 1.2426 - val_accuracy: 0.4414\n",
            "Epoch 57/200\n",
            "193/193 [==============================] - 1s 4ms/step - loss: 1.2216 - accuracy: 0.4576 - val_loss: 1.2430 - val_accuracy: 0.4395\n",
            "Epoch 58/200\n",
            "193/193 [==============================] - 1s 4ms/step - loss: 1.2212 - accuracy: 0.4583 - val_loss: 1.2419 - val_accuracy: 0.4403\n",
            "Epoch 59/200\n",
            "193/193 [==============================] - 1s 4ms/step - loss: 1.2209 - accuracy: 0.4578 - val_loss: 1.2417 - val_accuracy: 0.4422\n",
            "Epoch 60/200\n",
            "193/193 [==============================] - 1s 4ms/step - loss: 1.2201 - accuracy: 0.4584 - val_loss: 1.2415 - val_accuracy: 0.4358\n",
            "Epoch 61/200\n",
            "193/193 [==============================] - 1s 4ms/step - loss: 1.2201 - accuracy: 0.4572 - val_loss: 1.2411 - val_accuracy: 0.4403\n",
            "Epoch 62/200\n",
            "193/193 [==============================] - 1s 6ms/step - loss: 1.2195 - accuracy: 0.4593 - val_loss: 1.2408 - val_accuracy: 0.4422\n",
            "Epoch 63/200\n",
            "193/193 [==============================] - 1s 7ms/step - loss: 1.2189 - accuracy: 0.4618 - val_loss: 1.2403 - val_accuracy: 0.4403\n",
            "Epoch 64/200\n",
            "193/193 [==============================] - 1s 6ms/step - loss: 1.2187 - accuracy: 0.4589 - val_loss: 1.2405 - val_accuracy: 0.4448\n",
            "Epoch 65/200\n",
            "193/193 [==============================] - 1s 5ms/step - loss: 1.2183 - accuracy: 0.4597 - val_loss: 1.2401 - val_accuracy: 0.4437\n",
            "Epoch 66/200\n",
            "193/193 [==============================] - 1s 4ms/step - loss: 1.2179 - accuracy: 0.4615 - val_loss: 1.2398 - val_accuracy: 0.4426\n",
            "Epoch 67/200\n",
            "193/193 [==============================] - 1s 4ms/step - loss: 1.2174 - accuracy: 0.4620 - val_loss: 1.2405 - val_accuracy: 0.4471\n",
            "Epoch 68/200\n",
            "193/193 [==============================] - 1s 4ms/step - loss: 1.2172 - accuracy: 0.4607 - val_loss: 1.2397 - val_accuracy: 0.4460\n",
            "Epoch 69/200\n",
            "193/193 [==============================] - 1s 4ms/step - loss: 1.2167 - accuracy: 0.4622 - val_loss: 1.2386 - val_accuracy: 0.4407\n",
            "Epoch 70/200\n",
            "193/193 [==============================] - 1s 4ms/step - loss: 1.2165 - accuracy: 0.4594 - val_loss: 1.2384 - val_accuracy: 0.4448\n",
            "Epoch 71/200\n",
            "193/193 [==============================] - 1s 4ms/step - loss: 1.2161 - accuracy: 0.4617 - val_loss: 1.2380 - val_accuracy: 0.4418\n",
            "Epoch 72/200\n",
            "193/193 [==============================] - 1s 4ms/step - loss: 1.2157 - accuracy: 0.4614 - val_loss: 1.2379 - val_accuracy: 0.4395\n",
            "Epoch 73/200\n",
            "193/193 [==============================] - 1s 4ms/step - loss: 1.2156 - accuracy: 0.4612 - val_loss: 1.2374 - val_accuracy: 0.4388\n",
            "Epoch 74/200\n",
            "193/193 [==============================] - 1s 4ms/step - loss: 1.2149 - accuracy: 0.4599 - val_loss: 1.2371 - val_accuracy: 0.4444\n",
            "Epoch 75/200\n",
            "193/193 [==============================] - 1s 4ms/step - loss: 1.2147 - accuracy: 0.4638 - val_loss: 1.2373 - val_accuracy: 0.4456\n",
            "Epoch 76/200\n",
            "193/193 [==============================] - 1s 6ms/step - loss: 1.2145 - accuracy: 0.4628 - val_loss: 1.2371 - val_accuracy: 0.4444\n",
            "Epoch 77/200\n",
            "193/193 [==============================] - 1s 6ms/step - loss: 1.2139 - accuracy: 0.4612 - val_loss: 1.2366 - val_accuracy: 0.4437\n",
            "Epoch 78/200\n",
            "193/193 [==============================] - 1s 6ms/step - loss: 1.2136 - accuracy: 0.4646 - val_loss: 1.2363 - val_accuracy: 0.4403\n",
            "Epoch 79/200\n",
            "193/193 [==============================] - 1s 5ms/step - loss: 1.2137 - accuracy: 0.4654 - val_loss: 1.2360 - val_accuracy: 0.4403\n",
            "Epoch 80/200\n",
            "193/193 [==============================] - 1s 4ms/step - loss: 1.2132 - accuracy: 0.4631 - val_loss: 1.2357 - val_accuracy: 0.4426\n",
            "Epoch 81/200\n",
            "193/193 [==============================] - 1s 4ms/step - loss: 1.2131 - accuracy: 0.4657 - val_loss: 1.2356 - val_accuracy: 0.4426\n",
            "Epoch 82/200\n",
            "193/193 [==============================] - 1s 4ms/step - loss: 1.2127 - accuracy: 0.4627 - val_loss: 1.2356 - val_accuracy: 0.4456\n",
            "Epoch 83/200\n",
            "193/193 [==============================] - 1s 4ms/step - loss: 1.2123 - accuracy: 0.4672 - val_loss: 1.2354 - val_accuracy: 0.4444\n",
            "Epoch 84/200\n",
            "193/193 [==============================] - 1s 4ms/step - loss: 1.2120 - accuracy: 0.4662 - val_loss: 1.2349 - val_accuracy: 0.4426\n",
            "Epoch 85/200\n",
            "193/193 [==============================] - 1s 4ms/step - loss: 1.2118 - accuracy: 0.4670 - val_loss: 1.2352 - val_accuracy: 0.4478\n",
            "Epoch 86/200\n",
            "193/193 [==============================] - 1s 4ms/step - loss: 1.2114 - accuracy: 0.4656 - val_loss: 1.2350 - val_accuracy: 0.4494\n",
            "Epoch 87/200\n",
            "193/193 [==============================] - 1s 4ms/step - loss: 1.2112 - accuracy: 0.4649 - val_loss: 1.2343 - val_accuracy: 0.4471\n",
            "Epoch 88/200\n",
            "193/193 [==============================] - 1s 4ms/step - loss: 1.2108 - accuracy: 0.4674 - val_loss: 1.2341 - val_accuracy: 0.4410\n",
            "Epoch 89/200\n",
            "193/193 [==============================] - 1s 4ms/step - loss: 1.2107 - accuracy: 0.4678 - val_loss: 1.2340 - val_accuracy: 0.4429\n",
            "Epoch 90/200\n",
            "193/193 [==============================] - 1s 4ms/step - loss: 1.2105 - accuracy: 0.4680 - val_loss: 1.2343 - val_accuracy: 0.4520\n",
            "Epoch 91/200\n",
            "193/193 [==============================] - 1s 5ms/step - loss: 1.2103 - accuracy: 0.4677 - val_loss: 1.2338 - val_accuracy: 0.4497\n",
            "Epoch 92/200\n",
            "193/193 [==============================] - 1s 7ms/step - loss: 1.2098 - accuracy: 0.4688 - val_loss: 1.2333 - val_accuracy: 0.4482\n",
            "Epoch 93/200\n",
            "193/193 [==============================] - 1s 6ms/step - loss: 1.2096 - accuracy: 0.4669 - val_loss: 1.2338 - val_accuracy: 0.4497\n",
            "Epoch 94/200\n",
            "193/193 [==============================] - 1s 4ms/step - loss: 1.2092 - accuracy: 0.4644 - val_loss: 1.2341 - val_accuracy: 0.4497\n",
            "Epoch 95/200\n",
            "193/193 [==============================] - 1s 4ms/step - loss: 1.2092 - accuracy: 0.4696 - val_loss: 1.2332 - val_accuracy: 0.4509\n",
            "Epoch 96/200\n",
            "193/193 [==============================] - 1s 4ms/step - loss: 1.2089 - accuracy: 0.4680 - val_loss: 1.2329 - val_accuracy: 0.4505\n",
            "Epoch 97/200\n",
            "193/193 [==============================] - 1s 4ms/step - loss: 1.2086 - accuracy: 0.4687 - val_loss: 1.2335 - val_accuracy: 0.4497\n",
            "Epoch 98/200\n",
            "193/193 [==============================] - 1s 4ms/step - loss: 1.2084 - accuracy: 0.4698 - val_loss: 1.2322 - val_accuracy: 0.4463\n",
            "Epoch 99/200\n",
            "193/193 [==============================] - 1s 4ms/step - loss: 1.2083 - accuracy: 0.4677 - val_loss: 1.2322 - val_accuracy: 0.4505\n",
            "Epoch 100/200\n",
            "193/193 [==============================] - 1s 4ms/step - loss: 1.2080 - accuracy: 0.4695 - val_loss: 1.2328 - val_accuracy: 0.4516\n",
            "Epoch 101/200\n",
            "193/193 [==============================] - 1s 4ms/step - loss: 1.2079 - accuracy: 0.4682 - val_loss: 1.2321 - val_accuracy: 0.4505\n",
            "Epoch 102/200\n",
            "193/193 [==============================] - 1s 4ms/step - loss: 1.2075 - accuracy: 0.4680 - val_loss: 1.2323 - val_accuracy: 0.4516\n",
            "Epoch 103/200\n",
            "193/193 [==============================] - 1s 4ms/step - loss: 1.2073 - accuracy: 0.4672 - val_loss: 1.2314 - val_accuracy: 0.4501\n",
            "Epoch 104/200\n",
            "193/193 [==============================] - 1s 5ms/step - loss: 1.2070 - accuracy: 0.4693 - val_loss: 1.2325 - val_accuracy: 0.4490\n",
            "Epoch 105/200\n",
            "193/193 [==============================] - 1s 4ms/step - loss: 1.2070 - accuracy: 0.4709 - val_loss: 1.2316 - val_accuracy: 0.4505\n",
            "Epoch 106/200\n",
            "193/193 [==============================] - 1s 5ms/step - loss: 1.2065 - accuracy: 0.4701 - val_loss: 1.2311 - val_accuracy: 0.4497\n",
            "Epoch 107/200\n",
            "193/193 [==============================] - 1s 7ms/step - loss: 1.2064 - accuracy: 0.4690 - val_loss: 1.2308 - val_accuracy: 0.4505\n",
            "Epoch 108/200\n",
            "193/193 [==============================] - 1s 6ms/step - loss: 1.2063 - accuracy: 0.4691 - val_loss: 1.2309 - val_accuracy: 0.4501\n",
            "Epoch 109/200\n",
            "193/193 [==============================] - 1s 4ms/step - loss: 1.2058 - accuracy: 0.4708 - val_loss: 1.2310 - val_accuracy: 0.4501\n",
            "Epoch 110/200\n",
            "193/193 [==============================] - 1s 4ms/step - loss: 1.2058 - accuracy: 0.4695 - val_loss: 1.2311 - val_accuracy: 0.4494\n",
            "Epoch 111/200\n",
            "193/193 [==============================] - 1s 4ms/step - loss: 1.2056 - accuracy: 0.4672 - val_loss: 1.2303 - val_accuracy: 0.4497\n",
            "Epoch 112/200\n",
            "193/193 [==============================] - 1s 4ms/step - loss: 1.2054 - accuracy: 0.4714 - val_loss: 1.2301 - val_accuracy: 0.4467\n",
            "Epoch 113/200\n",
            "193/193 [==============================] - 1s 7ms/step - loss: 1.2053 - accuracy: 0.4721 - val_loss: 1.2299 - val_accuracy: 0.4494\n",
            "Epoch 114/200\n",
            "193/193 [==============================] - 1s 7ms/step - loss: 1.2050 - accuracy: 0.4716 - val_loss: 1.2302 - val_accuracy: 0.4512\n",
            "Epoch 115/200\n",
            "193/193 [==============================] - 1s 5ms/step - loss: 1.2048 - accuracy: 0.4703 - val_loss: 1.2298 - val_accuracy: 0.4494\n",
            "Epoch 116/200\n",
            "193/193 [==============================] - 1s 4ms/step - loss: 1.2047 - accuracy: 0.4687 - val_loss: 1.2298 - val_accuracy: 0.4494\n",
            "Epoch 117/200\n",
            "193/193 [==============================] - 1s 4ms/step - loss: 1.2043 - accuracy: 0.4704 - val_loss: 1.2304 - val_accuracy: 0.4494\n",
            "Epoch 118/200\n",
            "193/193 [==============================] - 1s 4ms/step - loss: 1.2043 - accuracy: 0.4714 - val_loss: 1.2293 - val_accuracy: 0.4482\n",
            "Epoch 119/200\n",
            "193/193 [==============================] - 1s 4ms/step - loss: 1.2042 - accuracy: 0.4698 - val_loss: 1.2297 - val_accuracy: 0.4497\n",
            "Epoch 120/200\n",
            "193/193 [==============================] - 1s 7ms/step - loss: 1.2038 - accuracy: 0.4732 - val_loss: 1.2292 - val_accuracy: 0.4482\n",
            "Epoch 121/200\n",
            "193/193 [==============================] - 1s 6ms/step - loss: 1.2037 - accuracy: 0.4698 - val_loss: 1.2293 - val_accuracy: 0.4475\n",
            "Epoch 122/200\n",
            "193/193 [==============================] - 1s 4ms/step - loss: 1.2035 - accuracy: 0.4719 - val_loss: 1.2292 - val_accuracy: 0.4490\n",
            "Epoch 123/200\n",
            "193/193 [==============================] - 1s 4ms/step - loss: 1.2030 - accuracy: 0.4724 - val_loss: 1.2295 - val_accuracy: 0.4497\n",
            "Epoch 124/200\n",
            "193/193 [==============================] - 1s 4ms/step - loss: 1.2030 - accuracy: 0.4721 - val_loss: 1.2286 - val_accuracy: 0.4501\n",
            "Epoch 125/200\n",
            "193/193 [==============================] - 1s 4ms/step - loss: 1.2030 - accuracy: 0.4721 - val_loss: 1.2291 - val_accuracy: 0.4490\n",
            "Epoch 126/200\n",
            "193/193 [==============================] - 1s 4ms/step - loss: 1.2027 - accuracy: 0.4701 - val_loss: 1.2292 - val_accuracy: 0.4478\n",
            "Epoch 127/200\n",
            "193/193 [==============================] - 1s 4ms/step - loss: 1.2026 - accuracy: 0.4712 - val_loss: 1.2293 - val_accuracy: 0.4497\n",
            "Epoch 128/200\n",
            "193/193 [==============================] - 1s 4ms/step - loss: 1.2021 - accuracy: 0.4742 - val_loss: 1.2281 - val_accuracy: 0.4478\n",
            "Epoch 129/200\n",
            "193/193 [==============================] - 1s 4ms/step - loss: 1.2022 - accuracy: 0.4706 - val_loss: 1.2287 - val_accuracy: 0.4497\n",
            "Epoch 130/200\n",
            "193/193 [==============================] - 1s 4ms/step - loss: 1.2022 - accuracy: 0.4725 - val_loss: 1.2281 - val_accuracy: 0.4490\n",
            "Epoch 131/200\n",
            "193/193 [==============================] - 1s 4ms/step - loss: 1.2019 - accuracy: 0.4717 - val_loss: 1.2278 - val_accuracy: 0.4512\n",
            "Epoch 132/200\n",
            "193/193 [==============================] - 1s 4ms/step - loss: 1.2017 - accuracy: 0.4725 - val_loss: 1.2275 - val_accuracy: 0.4497\n",
            "Epoch 133/200\n",
            "193/193 [==============================] - 1s 5ms/step - loss: 1.2016 - accuracy: 0.4721 - val_loss: 1.2284 - val_accuracy: 0.4509\n",
            "Epoch 134/200\n",
            "193/193 [==============================] - 1s 6ms/step - loss: 1.2015 - accuracy: 0.4709 - val_loss: 1.2276 - val_accuracy: 0.4494\n",
            "Epoch 135/200\n",
            "193/193 [==============================] - 1s 6ms/step - loss: 1.2014 - accuracy: 0.4735 - val_loss: 1.2280 - val_accuracy: 0.4497\n",
            "Epoch 136/200\n",
            "193/193 [==============================] - 1s 7ms/step - loss: 1.2011 - accuracy: 0.4735 - val_loss: 1.2273 - val_accuracy: 0.4494\n",
            "Epoch 137/200\n",
            "193/193 [==============================] - 1s 4ms/step - loss: 1.2010 - accuracy: 0.4722 - val_loss: 1.2277 - val_accuracy: 0.4497\n",
            "Epoch 138/200\n",
            "193/193 [==============================] - 1s 4ms/step - loss: 1.2009 - accuracy: 0.4725 - val_loss: 1.2272 - val_accuracy: 0.4494\n",
            "Epoch 139/200\n",
            "193/193 [==============================] - 1s 4ms/step - loss: 1.2006 - accuracy: 0.4709 - val_loss: 1.2273 - val_accuracy: 0.4531\n",
            "Epoch 140/200\n",
            "193/193 [==============================] - 1s 4ms/step - loss: 1.2004 - accuracy: 0.4734 - val_loss: 1.2268 - val_accuracy: 0.4497\n",
            "Epoch 141/200\n",
            "193/193 [==============================] - 1s 4ms/step - loss: 1.2004 - accuracy: 0.4745 - val_loss: 1.2268 - val_accuracy: 0.4478\n",
            "Epoch 142/200\n",
            "193/193 [==============================] - 1s 4ms/step - loss: 1.2002 - accuracy: 0.4730 - val_loss: 1.2271 - val_accuracy: 0.4505\n",
            "Epoch 143/200\n",
            "193/193 [==============================] - 1s 4ms/step - loss: 1.2000 - accuracy: 0.4729 - val_loss: 1.2265 - val_accuracy: 0.4494\n",
            "Epoch 144/200\n",
            "193/193 [==============================] - 1s 4ms/step - loss: 1.1999 - accuracy: 0.4735 - val_loss: 1.2264 - val_accuracy: 0.4463\n",
            "Epoch 145/200\n",
            "193/193 [==============================] - 1s 5ms/step - loss: 1.1996 - accuracy: 0.4742 - val_loss: 1.2273 - val_accuracy: 0.4531\n",
            "Epoch 146/200\n",
            "193/193 [==============================] - 1s 4ms/step - loss: 1.1996 - accuracy: 0.4750 - val_loss: 1.2263 - val_accuracy: 0.4497\n",
            "Epoch 147/200\n",
            "193/193 [==============================] - 1s 4ms/step - loss: 1.1994 - accuracy: 0.4748 - val_loss: 1.2268 - val_accuracy: 0.4531\n",
            "Epoch 148/200\n",
            "193/193 [==============================] - 1s 4ms/step - loss: 1.1994 - accuracy: 0.4735 - val_loss: 1.2266 - val_accuracy: 0.4535\n",
            "Epoch 149/200\n",
            "193/193 [==============================] - 1s 7ms/step - loss: 1.1992 - accuracy: 0.4755 - val_loss: 1.2265 - val_accuracy: 0.4543\n",
            "Epoch 150/200\n",
            "193/193 [==============================] - 1s 7ms/step - loss: 1.1990 - accuracy: 0.4758 - val_loss: 1.2259 - val_accuracy: 0.4467\n",
            "Epoch 151/200\n",
            "193/193 [==============================] - 1s 6ms/step - loss: 1.1988 - accuracy: 0.4745 - val_loss: 1.2257 - val_accuracy: 0.4509\n",
            "Epoch 152/200\n",
            "193/193 [==============================] - 1s 4ms/step - loss: 1.1986 - accuracy: 0.4768 - val_loss: 1.2262 - val_accuracy: 0.4539\n",
            "Epoch 153/200\n",
            "193/193 [==============================] - 1s 4ms/step - loss: 1.1985 - accuracy: 0.4759 - val_loss: 1.2254 - val_accuracy: 0.4490\n",
            "Epoch 154/200\n",
            "193/193 [==============================] - 1s 4ms/step - loss: 1.1983 - accuracy: 0.4746 - val_loss: 1.2259 - val_accuracy: 0.4531\n",
            "Epoch 155/200\n",
            "193/193 [==============================] - 1s 4ms/step - loss: 1.1982 - accuracy: 0.4755 - val_loss: 1.2256 - val_accuracy: 0.4512\n",
            "Epoch 156/200\n",
            "193/193 [==============================] - 1s 4ms/step - loss: 1.1980 - accuracy: 0.4771 - val_loss: 1.2253 - val_accuracy: 0.4497\n",
            "Epoch 157/200\n",
            "193/193 [==============================] - 1s 4ms/step - loss: 1.1978 - accuracy: 0.4768 - val_loss: 1.2249 - val_accuracy: 0.4509\n",
            "Epoch 158/200\n",
            "193/193 [==============================] - 1s 4ms/step - loss: 1.1976 - accuracy: 0.4764 - val_loss: 1.2263 - val_accuracy: 0.4512\n",
            "Epoch 159/200\n",
            "193/193 [==============================] - 1s 4ms/step - loss: 1.1975 - accuracy: 0.4768 - val_loss: 1.2250 - val_accuracy: 0.4490\n",
            "Epoch 160/200\n",
            "193/193 [==============================] - 1s 5ms/step - loss: 1.1974 - accuracy: 0.4772 - val_loss: 1.2252 - val_accuracy: 0.4520\n",
            "Epoch 161/200\n",
            "193/193 [==============================] - 1s 5ms/step - loss: 1.1972 - accuracy: 0.4768 - val_loss: 1.2252 - val_accuracy: 0.4543\n",
            "Epoch 162/200\n",
            "193/193 [==============================] - 1s 4ms/step - loss: 1.1971 - accuracy: 0.4769 - val_loss: 1.2256 - val_accuracy: 0.4512\n",
            "Epoch 163/200\n",
            "193/193 [==============================] - 1s 5ms/step - loss: 1.1971 - accuracy: 0.4771 - val_loss: 1.2248 - val_accuracy: 0.4531\n",
            "Epoch 164/200\n",
            "193/193 [==============================] - 1s 6ms/step - loss: 1.1969 - accuracy: 0.4772 - val_loss: 1.2245 - val_accuracy: 0.4524\n",
            "Epoch 165/200\n",
            "193/193 [==============================] - 1s 6ms/step - loss: 1.1967 - accuracy: 0.4785 - val_loss: 1.2246 - val_accuracy: 0.4546\n",
            "Epoch 166/200\n",
            "193/193 [==============================] - 1s 4ms/step - loss: 1.1966 - accuracy: 0.4782 - val_loss: 1.2244 - val_accuracy: 0.4543\n",
            "Epoch 167/200\n",
            "193/193 [==============================] - 1s 4ms/step - loss: 1.1963 - accuracy: 0.4785 - val_loss: 1.2246 - val_accuracy: 0.4524\n",
            "Epoch 168/200\n",
            "193/193 [==============================] - 1s 4ms/step - loss: 1.1961 - accuracy: 0.4787 - val_loss: 1.2242 - val_accuracy: 0.4535\n",
            "Epoch 169/200\n",
            "193/193 [==============================] - 1s 5ms/step - loss: 1.1961 - accuracy: 0.4769 - val_loss: 1.2244 - val_accuracy: 0.4535\n",
            "Epoch 170/200\n",
            "193/193 [==============================] - 1s 4ms/step - loss: 1.1960 - accuracy: 0.4771 - val_loss: 1.2242 - val_accuracy: 0.4554\n",
            "Epoch 171/200\n",
            "193/193 [==============================] - 1s 4ms/step - loss: 1.1958 - accuracy: 0.4780 - val_loss: 1.2240 - val_accuracy: 0.4531\n",
            "Epoch 172/200\n",
            "193/193 [==============================] - 1s 4ms/step - loss: 1.1957 - accuracy: 0.4795 - val_loss: 1.2242 - val_accuracy: 0.4528\n",
            "Epoch 173/200\n",
            "193/193 [==============================] - 1s 4ms/step - loss: 1.1955 - accuracy: 0.4780 - val_loss: 1.2243 - val_accuracy: 0.4543\n",
            "Epoch 174/200\n",
            "193/193 [==============================] - 1s 4ms/step - loss: 1.1954 - accuracy: 0.4776 - val_loss: 1.2239 - val_accuracy: 0.4531\n",
            "Epoch 175/200\n",
            "193/193 [==============================] - 1s 4ms/step - loss: 1.1953 - accuracy: 0.4780 - val_loss: 1.2235 - val_accuracy: 0.4535\n",
            "Epoch 176/200\n",
            "193/193 [==============================] - 1s 4ms/step - loss: 1.1950 - accuracy: 0.4785 - val_loss: 1.2233 - val_accuracy: 0.4550\n",
            "Epoch 177/200\n",
            "193/193 [==============================] - 1s 4ms/step - loss: 1.1951 - accuracy: 0.4782 - val_loss: 1.2233 - val_accuracy: 0.4535\n",
            "Epoch 178/200\n",
            "193/193 [==============================] - 1s 5ms/step - loss: 1.1948 - accuracy: 0.4782 - val_loss: 1.2230 - val_accuracy: 0.4539\n",
            "Epoch 179/200\n",
            "193/193 [==============================] - 1s 6ms/step - loss: 1.1948 - accuracy: 0.4785 - val_loss: 1.2234 - val_accuracy: 0.4543\n",
            "Epoch 180/200\n",
            "193/193 [==============================] - 1s 6ms/step - loss: 1.1945 - accuracy: 0.4780 - val_loss: 1.2230 - val_accuracy: 0.4528\n",
            "Epoch 181/200\n",
            "193/193 [==============================] - 1s 4ms/step - loss: 1.1944 - accuracy: 0.4805 - val_loss: 1.2238 - val_accuracy: 0.4543\n",
            "Epoch 182/200\n",
            "193/193 [==============================] - 1s 4ms/step - loss: 1.1944 - accuracy: 0.4795 - val_loss: 1.2234 - val_accuracy: 0.4565\n",
            "Epoch 183/200\n",
            "193/193 [==============================] - 1s 5ms/step - loss: 1.1942 - accuracy: 0.4784 - val_loss: 1.2228 - val_accuracy: 0.4539\n",
            "Epoch 184/200\n",
            "193/193 [==============================] - 1s 4ms/step - loss: 1.1941 - accuracy: 0.4792 - val_loss: 1.2230 - val_accuracy: 0.4550\n",
            "Epoch 185/200\n",
            "193/193 [==============================] - 1s 4ms/step - loss: 1.1940 - accuracy: 0.4790 - val_loss: 1.2228 - val_accuracy: 0.4558\n",
            "Epoch 186/200\n",
            "193/193 [==============================] - 1s 4ms/step - loss: 1.1939 - accuracy: 0.4793 - val_loss: 1.2226 - val_accuracy: 0.4539\n",
            "Epoch 187/200\n",
            "193/193 [==============================] - 1s 5ms/step - loss: 1.1937 - accuracy: 0.4777 - val_loss: 1.2229 - val_accuracy: 0.4569\n",
            "Epoch 188/200\n",
            "193/193 [==============================] - 1s 4ms/step - loss: 1.1936 - accuracy: 0.4798 - val_loss: 1.2228 - val_accuracy: 0.4565\n",
            "Epoch 189/200\n",
            "193/193 [==============================] - 1s 4ms/step - loss: 1.1934 - accuracy: 0.4785 - val_loss: 1.2232 - val_accuracy: 0.4531\n",
            "Epoch 190/200\n",
            "193/193 [==============================] - 1s 4ms/step - loss: 1.1934 - accuracy: 0.4795 - val_loss: 1.2226 - val_accuracy: 0.4562\n",
            "Epoch 191/200\n",
            "193/193 [==============================] - 1s 4ms/step - loss: 1.1932 - accuracy: 0.4780 - val_loss: 1.2223 - val_accuracy: 0.4539\n",
            "Epoch 192/200\n",
            "193/193 [==============================] - 1s 4ms/step - loss: 1.1931 - accuracy: 0.4800 - val_loss: 1.2218 - val_accuracy: 0.4562\n",
            "Epoch 193/200\n",
            "193/193 [==============================] - 1s 7ms/step - loss: 1.1930 - accuracy: 0.4789 - val_loss: 1.2221 - val_accuracy: 0.4550\n",
            "Epoch 194/200\n",
            "193/193 [==============================] - 1s 7ms/step - loss: 1.1929 - accuracy: 0.4816 - val_loss: 1.2218 - val_accuracy: 0.4562\n",
            "Epoch 195/200\n",
            "193/193 [==============================] - 1s 5ms/step - loss: 1.1928 - accuracy: 0.4806 - val_loss: 1.2224 - val_accuracy: 0.4565\n",
            "Epoch 196/200\n",
            "193/193 [==============================] - 1s 4ms/step - loss: 1.1925 - accuracy: 0.4805 - val_loss: 1.2216 - val_accuracy: 0.4562\n",
            "Epoch 197/200\n",
            "193/193 [==============================] - 1s 4ms/step - loss: 1.1924 - accuracy: 0.4800 - val_loss: 1.2215 - val_accuracy: 0.4554\n",
            "Epoch 198/200\n",
            "193/193 [==============================] - 1s 4ms/step - loss: 1.1924 - accuracy: 0.4800 - val_loss: 1.2223 - val_accuracy: 0.4543\n",
            "Epoch 199/200\n",
            "193/193 [==============================] - 1s 6ms/step - loss: 1.1923 - accuracy: 0.4803 - val_loss: 1.2216 - val_accuracy: 0.4543\n",
            "Epoch 200/200\n",
            "193/193 [==============================] - 1s 5ms/step - loss: 1.1922 - accuracy: 0.4795 - val_loss: 1.2215 - val_accuracy: 0.4550\n"
          ]
        },
        {
          "output_type": "execute_result",
          "data": {
            "text/plain": [
              "<keras.callbacks.History at 0x7f94ecf3b5e0>"
            ]
          },
          "metadata": {},
          "execution_count": 128
        }
      ]
    },
    {
      "cell_type": "code",
      "source": [
        "metrics = pd.DataFrame(ai_brain.history.history)\n",
        " "
      ],
      "metadata": {
        "id": "k8MNDubCyaKB"
      },
      "execution_count": null,
      "outputs": []
    },
    {
      "cell_type": "code",
      "source": [
        "metrics.head()"
      ],
      "metadata": {
        "id": "kc6SImbAybt3",
        "colab": {
          "base_uri": "https://localhost:8080/",
          "height": 206
        },
        "outputId": "5bbfa8aa-96c3-48f2-a7c1-c3f723f68155"
      },
      "execution_count": null,
      "outputs": [
        {
          "output_type": "execute_result",
          "data": {
            "text/plain": [
              "       loss  accuracy  val_loss  val_accuracy\n",
              "0  1.384950  0.305200  1.383348      0.340514\n",
              "1  1.380475  0.346023  1.377838      0.343159\n",
              "2  1.373771  0.355419  1.371118      0.354119\n",
              "3  1.366533  0.363357  1.364921      0.369615\n",
              "4  1.358841  0.379232  1.358301      0.375661"
            ],
            "text/html": [
              "\n",
              "  <div id=\"df-bdc634ef-4924-4022-8310-4a80b8d254a8\">\n",
              "    <div class=\"colab-df-container\">\n",
              "      <div>\n",
              "<style scoped>\n",
              "    .dataframe tbody tr th:only-of-type {\n",
              "        vertical-align: middle;\n",
              "    }\n",
              "\n",
              "    .dataframe tbody tr th {\n",
              "        vertical-align: top;\n",
              "    }\n",
              "\n",
              "    .dataframe thead th {\n",
              "        text-align: right;\n",
              "    }\n",
              "</style>\n",
              "<table border=\"1\" class=\"dataframe\">\n",
              "  <thead>\n",
              "    <tr style=\"text-align: right;\">\n",
              "      <th></th>\n",
              "      <th>loss</th>\n",
              "      <th>accuracy</th>\n",
              "      <th>val_loss</th>\n",
              "      <th>val_accuracy</th>\n",
              "    </tr>\n",
              "  </thead>\n",
              "  <tbody>\n",
              "    <tr>\n",
              "      <th>0</th>\n",
              "      <td>1.384950</td>\n",
              "      <td>0.305200</td>\n",
              "      <td>1.383348</td>\n",
              "      <td>0.340514</td>\n",
              "    </tr>\n",
              "    <tr>\n",
              "      <th>1</th>\n",
              "      <td>1.380475</td>\n",
              "      <td>0.346023</td>\n",
              "      <td>1.377838</td>\n",
              "      <td>0.343159</td>\n",
              "    </tr>\n",
              "    <tr>\n",
              "      <th>2</th>\n",
              "      <td>1.373771</td>\n",
              "      <td>0.355419</td>\n",
              "      <td>1.371118</td>\n",
              "      <td>0.354119</td>\n",
              "    </tr>\n",
              "    <tr>\n",
              "      <th>3</th>\n",
              "      <td>1.366533</td>\n",
              "      <td>0.363357</td>\n",
              "      <td>1.364921</td>\n",
              "      <td>0.369615</td>\n",
              "    </tr>\n",
              "    <tr>\n",
              "      <th>4</th>\n",
              "      <td>1.358841</td>\n",
              "      <td>0.379232</td>\n",
              "      <td>1.358301</td>\n",
              "      <td>0.375661</td>\n",
              "    </tr>\n",
              "  </tbody>\n",
              "</table>\n",
              "</div>\n",
              "      <button class=\"colab-df-convert\" onclick=\"convertToInteractive('df-bdc634ef-4924-4022-8310-4a80b8d254a8')\"\n",
              "              title=\"Convert this dataframe to an interactive table.\"\n",
              "              style=\"display:none;\">\n",
              "        \n",
              "  <svg xmlns=\"http://www.w3.org/2000/svg\" height=\"24px\"viewBox=\"0 0 24 24\"\n",
              "       width=\"24px\">\n",
              "    <path d=\"M0 0h24v24H0V0z\" fill=\"none\"/>\n",
              "    <path d=\"M18.56 5.44l.94 2.06.94-2.06 2.06-.94-2.06-.94-.94-2.06-.94 2.06-2.06.94zm-11 1L8.5 8.5l.94-2.06 2.06-.94-2.06-.94L8.5 2.5l-.94 2.06-2.06.94zm10 10l.94 2.06.94-2.06 2.06-.94-2.06-.94-.94-2.06-.94 2.06-2.06.94z\"/><path d=\"M17.41 7.96l-1.37-1.37c-.4-.4-.92-.59-1.43-.59-.52 0-1.04.2-1.43.59L10.3 9.45l-7.72 7.72c-.78.78-.78 2.05 0 2.83L4 21.41c.39.39.9.59 1.41.59.51 0 1.02-.2 1.41-.59l7.78-7.78 2.81-2.81c.8-.78.8-2.07 0-2.86zM5.41 20L4 18.59l7.72-7.72 1.47 1.35L5.41 20z\"/>\n",
              "  </svg>\n",
              "      </button>\n",
              "      \n",
              "  <style>\n",
              "    .colab-df-container {\n",
              "      display:flex;\n",
              "      flex-wrap:wrap;\n",
              "      gap: 12px;\n",
              "    }\n",
              "\n",
              "    .colab-df-convert {\n",
              "      background-color: #E8F0FE;\n",
              "      border: none;\n",
              "      border-radius: 50%;\n",
              "      cursor: pointer;\n",
              "      display: none;\n",
              "      fill: #1967D2;\n",
              "      height: 32px;\n",
              "      padding: 0 0 0 0;\n",
              "      width: 32px;\n",
              "    }\n",
              "\n",
              "    .colab-df-convert:hover {\n",
              "      background-color: #E2EBFA;\n",
              "      box-shadow: 0px 1px 2px rgba(60, 64, 67, 0.3), 0px 1px 3px 1px rgba(60, 64, 67, 0.15);\n",
              "      fill: #174EA6;\n",
              "    }\n",
              "\n",
              "    [theme=dark] .colab-df-convert {\n",
              "      background-color: #3B4455;\n",
              "      fill: #D2E3FC;\n",
              "    }\n",
              "\n",
              "    [theme=dark] .colab-df-convert:hover {\n",
              "      background-color: #434B5C;\n",
              "      box-shadow: 0px 1px 3px 1px rgba(0, 0, 0, 0.15);\n",
              "      filter: drop-shadow(0px 1px 2px rgba(0, 0, 0, 0.3));\n",
              "      fill: #FFFFFF;\n",
              "    }\n",
              "  </style>\n",
              "\n",
              "      <script>\n",
              "        const buttonEl =\n",
              "          document.querySelector('#df-bdc634ef-4924-4022-8310-4a80b8d254a8 button.colab-df-convert');\n",
              "        buttonEl.style.display =\n",
              "          google.colab.kernel.accessAllowed ? 'block' : 'none';\n",
              "\n",
              "        async function convertToInteractive(key) {\n",
              "          const element = document.querySelector('#df-bdc634ef-4924-4022-8310-4a80b8d254a8');\n",
              "          const dataTable =\n",
              "            await google.colab.kernel.invokeFunction('convertToInteractive',\n",
              "                                                     [key], {});\n",
              "          if (!dataTable) return;\n",
              "\n",
              "          const docLinkHtml = 'Like what you see? Visit the ' +\n",
              "            '<a target=\"_blank\" href=https://colab.research.google.com/notebooks/data_table.ipynb>data table notebook</a>'\n",
              "            + ' to learn more about interactive tables.';\n",
              "          element.innerHTML = '';\n",
              "          dataTable['output_type'] = 'display_data';\n",
              "          await google.colab.output.renderOutput(dataTable, element);\n",
              "          const docLink = document.createElement('div');\n",
              "          docLink.innerHTML = docLinkHtml;\n",
              "          element.appendChild(docLink);\n",
              "        }\n",
              "      </script>\n",
              "    </div>\n",
              "  </div>\n",
              "  "
            ]
          },
          "metadata": {},
          "execution_count": 130
        }
      ]
    },
    {
      "cell_type": "code",
      "source": [
        "metrics[['loss','val_loss']].plot()"
      ],
      "metadata": {
        "id": "dDjBzmYzydaL",
        "colab": {
          "base_uri": "https://localhost:8080/",
          "height": 282
        },
        "outputId": "6472a09b-feb3-4200-db7d-e7f7753bbeed"
      },
      "execution_count": null,
      "outputs": [
        {
          "output_type": "execute_result",
          "data": {
            "text/plain": [
              "<Axes: >"
            ]
          },
          "metadata": {},
          "execution_count": 131
        },
        {
          "output_type": "display_data",
          "data": {
            "text/plain": [
              "<Figure size 432x288 with 1 Axes>"
            ],
            "image/png": "[encoded data removed]"
          },
          "metadata": {
            "needs_background": "light"
          }
        }
      ]
    },
    {
      "cell_type": "code",
      "source": [
        "metrics[['accuracy','val_accuracy']].plot()"
      ],
      "metadata": {
        "id": "7u5iIg0YV4lu",
        "colab": {
          "base_uri": "https://localhost:8080/",
          "height": 282
        },
        "outputId": "3447a7f3-ac80-4fbc-d987-e5bc36ce25ec"
      },
      "execution_count": null,
      "outputs": [
        {
          "output_type": "execute_result",
          "data": {
            "text/plain": [
              "<Axes: >"
            ]
          },
          "metadata": {},
          "execution_count": 132
        },
        {
          "output_type": "display_data",
          "data": {
            "text/plain": [
              "<Figure size 432x288 with 1 Axes>"
            ],
            "image/png": "[encoded data removed]"
          },
          "metadata": {
            "needs_background": "light"
          }
        }
      ]
    },
    {
      "cell_type": "code",
      "source": [
        "x_test_predictions = np.argmax(ai_brain.predict(X_test_scaled), axis=1)\n",
        " "
      ],
      "metadata": {
        "id": "-N2h_6pXyfAJ",
        "colab": {
          "base_uri": "https://localhost:8080/"
        },
        "outputId": "4a1fcc86-03ea-49ff-e088-1035f264ecc6"
      },
      "execution_count": null,
      "outputs": [
        {
          "output_type": "stream",
          "name": "stdout",
          "text": [
            "83/83 [==============================] - 0s 2ms/step\n"
          ]
        }
      ]
    },
    {
      "cell_type": "code",
      "source": [
        "x_test_predictions.shape\n",
        "     "
      ],
      "metadata": {
        "id": "mm2p9monyiQq",
        "colab": {
          "base_uri": "https://localhost:8080/"
        },
        "outputId": "abe8aee3-5ddd-4f4c-de4b-1fd2a7c9051f"
      },
      "execution_count": null,
      "outputs": [
        {
          "output_type": "execute_result",
          "data": {
            "text/plain": [
              "(2646,)"
            ]
          },
          "metadata": {},
          "execution_count": 134
        }
      ]
    },
    {
      "cell_type": "code",
      "source": [
        "y_test_truevalue = np.argmax(y_test,axis=1)\n",
        " "
      ],
      "metadata": {
        "id": "PAMtvUs_ykGs"
      },
      "execution_count": null,
      "outputs": []
    },
    {
      "cell_type": "code",
      "source": [
        "y_test_truevalue.shape"
      ],
      "metadata": {
        "id": "0uQnY3PeylVj",
        "colab": {
          "base_uri": "https://localhost:8080/"
        },
        "outputId": "a62caed0-4075-4134-bb17-d7531b883bdd"
      },
      "execution_count": null,
      "outputs": [
        {
          "output_type": "execute_result",
          "data": {
            "text/plain": [
              "(2646,)"
            ]
          },
          "metadata": {},
          "execution_count": 136
        }
      ]
    },
    {
      "cell_type": "code",
      "source": [
        "print(confusion_matrix(y_test_truevalue,x_test_predictions))\n"
      ],
      "metadata": {
        "id": "73gpABJqymzC",
        "colab": {
          "base_uri": "https://localhost:8080/"
        },
        "outputId": "c72318b8-4f18-4cb3-b94f-d1d2787e8f54"
      },
      "execution_count": null,
      "outputs": [
        {
          "output_type": "stream",
          "name": "stdout",
          "text": [
            "[[334 106 102 153]\n",
            " [214 113 206  92]\n",
            " [123  81 329  85]\n",
            " [191  42  47 428]]\n"
          ]
        }
      ]
    },
    {
      "cell_type": "code",
      "source": [
        "print(classification_report(y_test_truevalue,x_test_predictions))\n"
      ],
      "metadata": {
        "id": "no7K8-HVyo4-",
        "colab": {
          "base_uri": "https://localhost:8080/"
        },
        "outputId": "9d6b1cec-4171-45d5-fdb0-670086c3688c"
      },
      "execution_count": null,
      "outputs": [
        {
          "output_type": "stream",
          "name": "stdout",
          "text": [
            "              precision    recall  f1-score   support\n",
            "\n",
            "           0       0.39      0.48      0.43       695\n",
            "           1       0.33      0.18      0.23       625\n",
            "           2       0.48      0.53      0.51       618\n",
            "           3       0.56      0.60      0.58       708\n",
            "\n",
            "    accuracy                           0.46      2646\n",
            "   macro avg       0.44      0.45      0.44      2646\n",
            "weighted avg       0.44      0.46      0.44      2646\n",
            "\n"
          ]
        }
      ]
    },
    {
      "cell_type": "code",
      "source": [
        "ai_brain.save('customer_classification_model.h5')\n",
        " "
      ],
      "metadata": {
        "id": "YOKz_FaIyqui"
      },
      "execution_count": null,
      "outputs": []
    },
    {
      "cell_type": "code",
      "source": [
        "with open('customer_data.pickle', 'wb') as fh:\n",
        "   pickle.dump([X_train_scaled,y_train,X_test_scaled,y_test,data,df_processed,scaler_age,enc,one_hot_enc,le], fh)\n",
        "   "
      ],
      "metadata": {
        "id": "c0e0nVRIyrQH"
      },
      "execution_count": null,
      "outputs": []
    },
    {
      "cell_type": "code",
      "source": [
        "ai_brain = load_model('customer_classification_model.h5')\n"
      ],
      "metadata": {
        "id": "_cj0GEQYyvTE"
      },
      "execution_count": null,
      "outputs": []
    },
    {
      "cell_type": "code",
      "source": [
        "with open('customer_data.pickle', 'rb') as fh:\n",
        "   [X_train_scaled,y_train,X_test_scaled,y_test,customers_1,customer_df_cleaned,scaler_age,enc,one_hot_enc,le]=pickle.load(fh)\n",
        "   "
      ],
      "metadata": {
        "id": "SCW2ie_IyxEZ"
      },
      "execution_count": null,
      "outputs": []
    },
    {
      "cell_type": "code",
      "source": [
        "x_single_prediction = np.argmax(ai_brain.predict(X_test_scaled[1:2,:]), axis=1)\n"
      ],
      "metadata": {
        "id": "np1EMTOcyzWn",
        "colab": {
          "base_uri": "https://localhost:8080/"
        },
        "outputId": "d86ace28-8c1a-486f-99a4-bcbb7694fe4f"
      },
      "execution_count": null,
      "outputs": [
        {
          "output_type": "stream",
          "name": "stdout",
          "text": [
            "1/1 [==============================] - 0s 144ms/step\n"
          ]
        }
      ]
    },
    {
      "cell_type": "code",
      "source": [
        "print(x_single_prediction)\n",
        "     "
      ],
      "metadata": {
        "id": "zdIw0yMNy0yK",
        "colab": {
          "base_uri": "https://localhost:8080/"
        },
        "outputId": "9e0bdd67-f1af-4352-a8c0-3ff270a12720"
      },
      "execution_count": null,
      "outputs": [
        {
          "output_type": "stream",
          "name": "stdout",
          "text": [
            "[2]\n"
          ]
        }
      ]
    },
    {
      "cell_type": "code",
      "source": [
        "print(le.inverse_transform(x_single_prediction))\n",
        "   "
      ],
      "metadata": {
        "id": "BNNCniR1y2GE",
        "colab": {
          "base_uri": "https://localhost:8080/"
        },
        "outputId": "1cd503ec-289d-4361-acc2-be2d7ccad3f1"
      },
      "execution_count": null,
      "outputs": [
        {
          "output_type": "stream",
          "name": "stdout",
          "text": [
            "['C']\n"
          ]
        }
      ]
    },
    {
      "cell_type": "code",
      "source": [],
      "metadata": {
        "id": "eAscBKjMFWz6"
      },
      "execution_count": null,
      "outputs": []
    }
  ]
}